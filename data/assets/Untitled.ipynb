{
 "cells": [
  {
   "cell_type": "code",
   "execution_count": 1,
   "id": "aeda0ecd-0036-4eb9-8199-0693328a77f3",
   "metadata": {},
   "outputs": [
    {
     "name": "stderr",
     "output_type": "stream",
     "text": [
      "/Users/ben/Projects/NaturalHistoryMuseum/ADEPT/ADEPT/.venv/lib/python3.10/site-packages/tqdm/auto.py:22: TqdmWarning: IProgress not found. Please update jupyter and ipywidgets. See https://ipywidgets.readthedocs.io/en/stable/user_install.html\n",
      "  from .autonotebook import tqdm as notebook_tqdm\n"
     ]
    }
   ],
   "source": [
    "import spacy\n",
    "\n",
    "from adept.config import PACKAGES_DATA_DIR\n",
    "from adept.preprocess import Preprocess\n",
    "from adept.postprocess import Postproccess\n",
    "from adept.components.sentencizer import Sentencizer"
   ]
  },
  {
   "cell_type": "code",
   "execution_count": 10,
   "id": "ae80d4c6-7a42-4241-9c6d-f1148091ed41",
   "metadata": {},
   "outputs": [],
   "source": [
    "nlp = spacy.load(PACKAGES_DATA_DIR / 'en_numeric_ner-0.0.1/en_numeric_ner/en_numeric_ner-0.0.1')"
   ]
  },
  {
   "cell_type": "code",
   "execution_count": 38,
   "id": "74d12d37-7cff-4ed6-b93c-43e910e5e473",
   "metadata": {},
   "outputs": [],
   "source": [
    "trf = spacy.load(\"en_core_web_trf\", disable=[\"ner\"])"
   ]
  },
  {
   "cell_type": "code",
   "execution_count": 42,
   "id": "f863c78f-571e-4f83-bdad-f7755a725178",
   "metadata": {},
   "outputs": [
    {
     "data": {
      "text/plain": [
       "[('transformer',\n",
       "  <spacy_transformers.pipeline_component.Transformer at 0x142b4dc00>),\n",
       " ('tagger', <spacy.pipeline.tagger.Tagger at 0x143dbbee0>),\n",
       " ('parser', <spacy.pipeline.dep_parser.DependencyParser at 0x143dc1e70>),\n",
       " ('attribute_ruler',\n",
       "  <spacy.pipeline.attributeruler.AttributeRuler at 0x13fd22f80>),\n",
       " ('lemmatizer', <spacy.lang.en.lemmatizer.EnglishLemmatizer at 0x13f160700>)]"
      ]
     },
     "execution_count": 42,
     "metadata": {},
     "output_type": "execute_result"
    }
   ],
   "source": [
    "trf.pipeline"
   ]
  },
  {
   "cell_type": "code",
   "execution_count": 43,
   "id": "806939e8-4511-4035-a92f-188abf90ff09",
   "metadata": {},
   "outputs": [],
   "source": [
    "# trf.replace_listeners(\"tok2vec\", \"tagger\", [\"model.tok2vec\"])\n",
    "\n",
    "if not trf.has_pipe('ner'):\n",
    "    trf.add_pipe(\n",
    "        \"ner\",\n",
    "        name=\"ner2\",\n",
    "        source=nlp,\n",
    "        after=\"lemmatizer\",\n",
    "    )"
   ]
  },
  {
   "cell_type": "code",
   "execution_count": null,
   "id": "a1c8a617-6461-4ac1-b89f-120f0f04cbd6",
   "metadata": {},
   "outputs": [],
   "source": [
    "if not nlp.has_pipe('tagger'):\n",
    "    nlp.add_pipe(\n",
    "        \"tagger\",\n",
    "        name=\"tagger\",\n",
    "        source=trf,\n",
    "        after=\"ner\",\n",
    "    )"
   ]
  },
  {
   "cell_type": "code",
   "execution_count": 35,
   "id": "224f869c-abcc-4618-ae18-0a5b1d99cf55",
   "metadata": {},
   "outputs": [],
   "source": [
    "text = 'Rhizomes creeping. Pseudostems 20--40 cm. Leaves sessile except for 2 apical ones; ligule brownish, 1--5 cm, sparsely appressed villous; leaf blade obovate or oblong, 15--27 × 8--10 cm, adaxially glabrous, abaxially appressed yellow villous along midvein, base cuneate, apex acute. Spikes 8--14 × 4--6 cm; rachis appressed yellow villous; bracts rusty, ovate-lanceolate, 3--4.6 × 1.2--2 cm, membranous, appressed yellow villous, 3-flowered; bracteoles tubular, 2.7--3 cm, appressed yellow villous. Flowers white, slightly fragrant. Calyx brownish, 3.3--3.5 cm, slightly split on 1 side, appressed yellow villous. Corolla tube ca. 4 cm, glabrous; lobes linear, 2.5--3 cm × 3--4 mm. Lateral staminodes oblanceolate, ca. 2.3 cm × 7 mm. Labellum broadly ovate, ca. 2.2 × 1.9 cm, apically slightly 2-lobed or 2-cleft for ca. 1/2 its length. Filament white, equaling labellum; anther ca. 9 mm. Ovary ca. 5 mm, appressed yellow villous. Stigma ciliate. Fl. Feb.'"
   ]
  },
  {
   "cell_type": "code",
   "execution_count": 48,
   "id": "11a3acda-06ec-465f-8fea-085655f02819",
   "metadata": {},
   "outputs": [],
   "source": [
    "preprocess = Preprocess()\n",
    "text = preprocess(text)          \n",
    "doc = nlp(text)"
   ]
  },
  {
   "cell_type": "code",
   "execution_count": 49,
   "id": "d0ad8dac-f1b8-46b7-9048-9acbfde20cda",
   "metadata": {},
   "outputs": [
    {
     "data": {
      "text/plain": [
       "(20-40 cm,\n",
       " 2,\n",
       " 1-5 cm,\n",
       " 15-27 x 8-10 cm,\n",
       " 8-14 x 4-6 cm,\n",
       " 3-4.6 x 1.2-2 cm,\n",
       " 3-flowered,\n",
       " 2.7-3 cm,\n",
       " 3.3-3.5 cm,\n",
       " 1,\n",
       " ca. 4 cm,\n",
       " 2.5-3 cm x 3-4 mm,\n",
       " ca. 2.3 cm x 7 mm,\n",
       " ca. 2.2 x 1.9 cm,\n",
       " 2-lobed,\n",
       " 2-cleft,\n",
       " 0.5,\n",
       " ca. 9 mm,\n",
       " ca. 5 mm)"
      ]
     },
     "execution_count": 49,
     "metadata": {},
     "output_type": "execute_result"
    }
   ],
   "source": [
    "doc.ents"
   ]
  },
  {
   "cell_type": "code",
   "execution_count": 37,
   "id": "e98be546-14ba-482a-8de6-d1ae38fe90b5",
   "metadata": {},
   "outputs": [
    {
     "data": {
      "text/plain": [
       "[('transformer',\n",
       "  <spacy_transformers.pipeline_component.Transformer at 0x13f625f00>),\n",
       " ('tagger', <spacy.pipeline.tagger.Tagger at 0x13f627100>),\n",
       " ('parser', <spacy.pipeline.dep_parser.DependencyParser at 0x141e20270>),\n",
       " ('attribute_ruler',\n",
       "  <spacy.pipeline.attributeruler.AttributeRuler at 0x141e56d00>),\n",
       " ('lemmatizer', <spacy.lang.en.lemmatizer.EnglishLemmatizer at 0x141fa0600>)]"
      ]
     },
     "execution_count": 37,
     "metadata": {},
     "output_type": "execute_result"
    }
   ],
   "source": [
    "trf.pipeline"
   ]
  },
  {
   "cell_type": "code",
   "execution_count": null,
   "id": "04e530c2-7844-406b-8131-b5292a95dc1c",
   "metadata": {},
   "outputs": [],
   "source": []
  }
 ],
 "metadata": {
  "kernelspec": {
   "display_name": "ADEPT",
   "language": "python",
   "name": "adept"
  },
  "language_info": {
   "codemirror_mode": {
    "name": "ipython",
    "version": 3
   },
   "file_extension": ".py",
   "mimetype": "text/x-python",
   "name": "python",
   "nbconvert_exporter": "python",
   "pygments_lexer": "ipython3",
   "version": "3.10.2"
  }
 },
 "nbformat": 4,
 "nbformat_minor": 5
}
