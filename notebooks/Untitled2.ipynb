{
 "cells": [
  {
   "cell_type": "code",
   "execution_count": 1,
   "id": "2507ab6e-6c2f-4fae-ac1d-5cdd5a50ec82",
   "metadata": {},
   "outputs": [
    {
     "name": "stderr",
     "output_type": "stream",
     "text": [
      "/Users/ben/Projects/NaturalHistoryMuseum/ADEPT/ADEPT/.venv/lib/python3.10/site-packages/tqdm/auto.py:22: TqdmWarning: IProgress not found. Please update jupyter and ipywidgets. See https://ipywidgets.readthedocs.io/en/stable/user_install.html\n",
      "  from .autonotebook import tqdm as notebook_tqdm\n"
     ]
    }
   ],
   "source": [
    "import spacy\n",
    "\n",
    "import numpy as np\n",
    "from adept.components.registry import ComponentsRegistry\n",
    "from adept.components.sentencizer import Sentencizer\n",
    "from adept.components.numeric import (NumericDimension, NumericExpand, NumericFraction, NumericMeasurement, NumericRange)\n",
    "from adept.components.anatomical import AnatomicalEntity\n",
    "from adept.components.traits import DiscreteTraitsEntity\n",
    "from adept.components.traits import CustomTraitsEntity\n",
    "from adept.preprocess import Preprocess\n",
    "from adept.postprocess import Postproccess\n",
    "from adept.traits import Traits\n",
    "from adept.fields import Fields, Field\n",
    "from adept.pipeline import Pipeline\n",
    "\n",
    "from adept.config import RAW_DATA_DIR\n",
    "\n",
    "from abc import ABC, abstractmethod\n",
    "from collections import OrderedDict\n",
    "from pathlib import Path\n",
    "from spacy.tokens import Span\n",
    "import re\n",
    "import yaml\n",
    "\n",
    "from adept.config import unit_registry, logger\n",
    "from adept.utils.helpers import flatten_dict"
   ]
  },
  {
   "cell_type": "code",
   "execution_count": 2,
   "id": "e01a561d-6372-4ee7-bde9-350d1962d1ff",
   "metadata": {},
   "outputs": [
    {
     "name": "stdout",
     "output_type": "stream",
     "text": [
      "INIT custom_sentencizer\n",
      "INIT custom_traits_entity\n",
      "INIT numeric_expand\n",
      "INIT numeric_dimensions\n",
      "INIT numeric_measurements\n",
      "INIT numeric_range\n",
      "INIT numeric_fraction\n"
     ]
    }
   ],
   "source": [
    "nlp = spacy.load(\"en_core_web_trf\")\n",
    "        \n",
    "registry = ComponentsRegistry(nlp)\n",
    "registry.add_components([\n",
    "    Sentencizer,\n",
    "    AnatomicalEntity,\n",
    "    DiscreteTraitsEntity,\n",
    "    CustomTraitsEntity,\n",
    "    NumericExpand,\n",
    "    NumericDimension,\n",
    "    NumericMeasurement,\n",
    "    NumericRange,\n",
    "    NumericFraction,\n",
    "])"
   ]
  },
  {
   "cell_type": "code",
   "execution_count": 3,
   "id": "33df4ebb-cf97-4472-8041-d8049a8e297d",
   "metadata": {},
   "outputs": [],
   "source": [
    "preprocess = Preprocess()"
   ]
  },
  {
   "cell_type": "code",
   "execution_count": 18,
   "id": "5417445c-691d-41be-8431-1c44bbf18585",
   "metadata": {},
   "outputs": [],
   "source": [
    "# text = 'Pseudostems to 3 m. Ligule ovate, entire, ca. 1 cm, margin minutely white hairy. Leaf blade narrowly lanceolate, 30--40 × 4--5 cm, glabrous, margin denticulate near acuminate apex. Panicles 10--20 cm, densely flowered; branches 2 or 3, 0.9--7 cm; bracts minute, ca. 7 mm; bracteoles absent. Pedicel 2--3 mm, pubescent. Calyx tubular, ca. 8 mm, obtusely ribbed, glabrous, apex 3-lobed. Corolla tube ca. 1 cm; central lobe oblong, ca. 7 × 3.5 mm, apex hooked, minutely mucronate; lateral lobes obovate-oblong, ca. 5 mm. Lateral staminodes 2, at base of labellum. Labellum nearly fan-shaped, ca. 1 cm; claw short; limb subreniform, 4-lobed. Filament linear, short, glabrous; anther oblong, short; connective crestless. Capsule ca. 6 mm in diam., glabrous.'\n",
    "\n",
    "# text = 'Trees, to 10 m tall, androdioecious. Bark gray-brown or dark brown, rough; branchlets slender, glabrous, those of present year purple-green or green, older ones gray-green or yellow-green. Winter buds purplish green, ovoid. Leaves persistent; petiole purple-green, 2-3.5 cm, glabrous; leaf blade abaxially gray-white, adaxially dark green and lucid, oblong-elliptic or elliptic, 10-14 × 3-6 cm, papery or subleathery, glabrous, pinnatinerved, lateral veins 8-12 pairs, base obtuse, apex caudate-acuminate, acumen 2-2.4 cm. Inflorescences cymose-paniculate, ca. 1.5 cm, pubescent. Sepals 5, yellowish green, ca. 2 × 7 mm. Petals 5, light yellow, ca. 1.8 × 0.4 mm. Stamens 8. Disk extrastaminal. Ovary purplish, villous. Fruit yellowish brown; nutlets flat, 1-2 cm × 6-7 mm; wing falcate, including nutlet 2-4 cm, wings spreading acutely. Fruit peduncle 1-2 cm, very slender. Fl. Aug-Oct, fr. Dec-Feb.'\n",
    "\n",
    "\n",
    "text = 'Rhizomes creeping. Pseudostems 20--40 cm. Leaves sessile except for 2 apical ones; ligule brownish, 1--5 cm, sparsely appressed villous; leaf blade obovate or oblong, 15--27 × 8--10 cm, adaxially glabrous, abaxially appressed yellow villous along midvein, base cuneate, apex acute. Spikes 8--14 × 4--6 cm; rachis appressed yellow villous; bracts rusty, ovate-lanceolate, 3--4.6 × 1.2--2 cm, membranous, appressed yellow villous, 3-flowered; bracteoles tubular, 2.7--3 cm, appressed yellow villous. Flowers white, slightly fragrant. Calyx brownish, 3.3--3.5 cm, slightly split on 1 side, appressed yellow villous. Corolla tube ca. 4 cm, glabrous; lobes linear, 2.5--3 cm × 3--4 mm. Lateral staminodes oblanceolate, ca. 2.3 cm × 7 mm. Labellum broadly ovate, ca. 2.2 × 1.9 cm, apically slightly 2-lobed or 2-cleft for ca. 1/2 its length. Filament white, equaling labellum; anther ca. 9 mm. Ovary ca. 5 mm, appressed yellow villous. Stigma ciliate. Fl. Feb.'"
   ]
  },
  {
   "cell_type": "code",
   "execution_count": 19,
   "id": "e5191485-bac0-457f-bc90-4148b639e5d8",
   "metadata": {},
   "outputs": [],
   "source": [
    "text = preprocess(text)          \n",
    "doc = nlp(text)\n",
    "traits = Traits()"
   ]
  },
  {
   "cell_type": "code",
   "execution_count": 20,
   "id": "a189a9ea-0b40-4cc9-b847-54a80114a459",
   "metadata": {},
   "outputs": [
    {
     "name": "stdout",
     "output_type": "stream",
     "text": [
      "Rhizomes creeping.\n",
      "[]\n",
      "Pseudostems 20-40 cm.\n",
      "[20-40 cm]\n",
      "Leaves sessile except for 2 apical ones;\n",
      "[]\n",
      "ligule brownish, 1-5 cm, sparsely appressed villous;\n",
      "[1-5 cm]\n",
      "leaf blade obovate or oblong, 15-27 x 8-10 cm, adaxially glabrous, abaxially appressed yellow villous along midvein, base cuneate, apex acute.\n",
      "[8-10 cm]\n",
      "Spikes 8-14 x 4-6 cm;\n",
      "[4-6 cm]\n",
      "rachis appressed yellow villous;\n",
      "[]\n",
      "bracts rusty, ovate-lanceolate, 3-4.6 x 1.2-2 cm, membranous, appressed yellow villous, 3-flowered;\n",
      "[1.2-2 cm]\n",
      "bracteoles tubular, 2.7-3 cm, appressed yellow villous.\n",
      "[2.7-3 cm]\n",
      "Flowers white, slightly fragrant.\n",
      "[]\n",
      "Calyx brownish, 3.3-3.5 cm, slightly split on 1 side, appressed yellow villous.\n",
      "[3.3-3.5 cm]\n",
      "Corolla tube ca. 4 cm, glabrous;\n",
      "[ca. 4 cm]\n",
      "lobes linear, 2.5-3 cm x 3-4 mm.\n",
      "[2.5-3 cm, 3-4 mm]\n",
      "Lateral staminodes oblanceolate, ca. 2.3 cm x 7 mm.\n",
      "[ca. 2.3 cm, 7 mm]\n",
      "Labellum broadly ovate, ca. 2.2 x 1.9 cm, apically slightly 2-lobed or 2-cleft for ca. 1/2 its length.\n",
      "[1.9 cm]\n",
      "Filament white, equaling labellum;\n",
      "[]\n",
      "anther ca. 9 mm.\n",
      "[ca. 9 mm]\n",
      "Ovary ca. 5 mm, appressed yellow villous.\n",
      "[ca. 5 mm]\n",
      "Stigma ciliate.\n",
      "[]\n",
      "Flower.\n",
      "[]\n",
      "Feb.\n",
      "[]\n"
     ]
    }
   ],
   "source": [
    "for sent in doc.sents:\n",
    "    print(sent)\n",
    "    print(sent._.measurements)"
   ]
  },
  {
   "cell_type": "code",
   "execution_count": 21,
   "id": "c39cebf6-c98c-4ae7-aaac-1db7f0ae0f10",
   "metadata": {},
   "outputs": [],
   "source": [
    "df = traits.get_discrete_traits('angiosperm')"
   ]
  },
  {
   "cell_type": "code",
   "execution_count": 22,
   "id": "5bd36950-c83f-4453-9ce7-f139a34e33e5",
   "metadata": {},
   "outputs": [
    {
     "name": "stdout",
     "output_type": "stream",
     "text": [
      "Rhizomes creeping.\n",
      "rhizome\n",
      "[]\n",
      "Pseudostems 20-40 cm.\n",
      "None\n",
      "[]\n",
      "Leaves sessile except for 2 apical ones;\n",
      "leaf\n",
      "[]\n",
      "ligule brownish, 1-5 cm, sparsely appressed villous;\n",
      "ligule\n",
      "[brownish]\n",
      "leaf blade obovate or oblong, 15-27 x 8-10 cm, adaxially glabrous, abaxially appressed yellow villous along midvein, base cuneate, apex acute.\n",
      "leaf\n",
      "[yellow]\n",
      "Spikes 8-14 x 4-6 cm;\n",
      "spike\n",
      "[]\n",
      "rachis appressed yellow villous;\n",
      "rachi\n",
      "[yellow]\n",
      "bracts rusty, ovate-lanceolate, 3-4.6 x 1.2-2 cm, membranous, appressed yellow villous, 3-flowered;\n",
      "bract\n",
      "[yellow]\n",
      "bracteoles tubular, 2.7-3 cm, appressed yellow villous.\n",
      "None\n",
      "[yellow]\n",
      "Flowers white, slightly fragrant.\n",
      "inflorescence\n",
      "[white]\n",
      "Calyx brownish, 3.3-3.5 cm, slightly split on 1 side, appressed yellow villous.\n",
      "calyx\n",
      "[brownish, yellow]\n",
      "Corolla tube ca. 4 cm, glabrous;\n",
      "corolla\n",
      "[]\n",
      "lobes linear, 2.5-3 cm x 3-4 mm.\n",
      "lobe\n",
      "[]\n",
      "Lateral staminodes oblanceolate, ca. 2.3 cm x 7 mm.\n",
      "None\n",
      "[]\n",
      "Labellum broadly ovate, ca. 2.2 x 1.9 cm, apically slightly 2-lobed or 2-cleft for ca. 1/2 its length.\n",
      "labellum\n",
      "[]\n",
      "Filament white, equaling labellum;\n",
      "filament\n",
      "[white]\n",
      "anther ca. 9 mm.\n",
      "anther\n",
      "[]\n",
      "Ovary ca. 5 mm, appressed yellow villous.\n",
      "ovary\n",
      "[yellow]\n",
      "Stigma ciliate.\n",
      "stigma\n",
      "[]\n",
      "Flower.\n",
      "inflorescence\n",
      "[]\n",
      "Feb.\n",
      "None\n",
      "[]\n"
     ]
    },
    {
     "data": {
      "text/plain": [
       "OrderedDict()"
      ]
     },
     "execution_count": 22,
     "metadata": {},
     "output_type": "execute_result"
    }
   ],
   "source": [
    "fields = Fields()\n",
    "\n",
    "\n",
    "for sent in doc.sents:\n",
    "    \n",
    "    part = sent._.anatomical_part if sent._.anatomical_part else None\n",
    "    \n",
    "    colour_ents = [ent for ent in sent.ents if ent.label_ == 'COLOUR']\n",
    "    \n",
    "    print(sent)\n",
    "    print(part)\n",
    "    print(colour_ents)\n",
    "    \n",
    "    # print(part)\n",
    "\n",
    "#     if part !=  'calyx': continue\n",
    "    \n",
    "#     print(sent)\n",
    "    \n",
    "    # if sent._.dimensions:     \n",
    "    #     field_name = f'{part} measurement'\n",
    "    #     field_type = 'dimension'\n",
    "    #     span = sent._.dimensions[0]\n",
    "    # elif sent._.measurements:            \n",
    "    #     field_name = f'{part} measurement'  \n",
    "    #     field_type = 'measurement'\n",
    "    #     span = sent._.measurements\n",
    "    # elif sent._.volume_measurements:\n",
    "    #     field_name = f'{part} volume'\n",
    "    #     field_type = 'volume'\n",
    "    #     span = sent._.volume_measurements[0]\n",
    "    # else:\n",
    "    #     continue\n",
    "        \n",
    "    # print(field_name)\n",
    "        \n",
    "    # fields.upsert(field_name, field_type, span)\n",
    "        \n",
    "        \n",
    "\n",
    "\n",
    "class MeasurementField(Field):\n",
    "    \n",
    "    # Length/height measurements are provided first, followed by width. \n",
    "    dimension_axes = ['y', 'x']    \n",
    "    unique = True\n",
    "    num_re = re.compile(r'[\\d\\.]+')\n",
    "\n",
    "    def set_value(self, measurements):        \n",
    "        if self.value: \n",
    "            logger.error(f'Field {self.name} already has a value')\n",
    "            return\n",
    "        self._set_value(measurements)\n",
    "        \n",
    "    def get_value(self, axis=None, minmax=None, unit=None):\n",
    "        if unit:\n",
    "            unit = unit_registry(unit)\n",
    "        \n",
    "        data = {}\n",
    "        # Build a dict of the values x.min       \n",
    "        for value_axis, value_dict in self.value.items():\n",
    "            data.setdefault(value_axis, {})\n",
    "            for mm, value in value_dict.items():\n",
    "                if unit:\n",
    "                    value = self.convert_value(value, unit)\n",
    "                data[value_axis][mm] = self._to_string(value)\n",
    "\n",
    "        # If axis / minmax set, filter the data\n",
    "        # FIXME: If minmax set, and not axis, this will fail\n",
    "        try:         \n",
    "            if axis: data = data[axis]\n",
    "            if minmax: data = data[minmax]             \n",
    "        except KeyError:\n",
    "            # We can ignore this: measurements that have just length will not contain x axis\n",
    "            return None       \n",
    "        return data\n",
    "    \n",
    "    @staticmethod \n",
    "    def _to_string(value):\n",
    "        # Convert value to string - uses the default formatting set in adept.config unit_registry.default_format  \n",
    "        return f'{value}'\n",
    "\n",
    "    @staticmethod \n",
    "    def convert_value(value, unit):\n",
    "        return value.to(unit)\n",
    "        \n",
    "    def _set_value(self, measurements):  \n",
    "        # If we have two measurements, treat them as y, x         \n",
    "        if len(measurements) == 2:\n",
    "            for axis, measurement in zip(self.dimension_axes, measurements):\n",
    "                self._set_axis_value(axis, measurement, measurement._.measurement_unit)\n",
    "        elif len(measurements) == 1:\n",
    "            measurement = measurements[0]\n",
    "            self._set_axis_value(self.dimension_axes[0], measurement, measurement._.measurement_unit)\n",
    "        \n",
    "    def _set_axis_value(self, axis, measurement: Span, unit):\n",
    "        if value := self._get_minmax_value(measurement, unit):\n",
    "            self.value[axis] = value\n",
    "\n",
    "    def _get_minmax_value(self, measurement: Span, unit):\n",
    "        # Some measurements are detected, but have no unit. \n",
    "        # E.g. Petals white, suborbicular, 6-7 x 5-6.\n",
    "        # No unit = do not use the measurement        \n",
    "        if not unit: return\n",
    "        value_dict = self._get_ent_value(measurement)\n",
    "        \n",
    "        unpack = lambda ks: ([v for k in ks if (v := value_dict.get(k))])\n",
    "\n",
    "        return {\n",
    "            'min': self._to_unit(min(unpack(['lower', 'from']), default=None), unit),\n",
    "            'max': self._to_unit(max(unpack(['to', 'upper']), default=None), unit)\n",
    "        }\n",
    "        \n",
    "    @staticmethod\n",
    "    def _to_unit(value, unit):\n",
    "        if value:\n",
    "            return float(value) * unit\n",
    "    \n",
    "    def _get_ent_value(self, ent: Span):\n",
    "        if ent._.numeric_range:\n",
    "            value = ent._.numeric_range\n",
    "        else:\n",
    "            # Extract numerical parts from the ent string             \n",
    "            nums = [float(m) for m in self.num_re.findall(ent.text)]\n",
    "            value = {'from': min(nums, default=None), 'to': max(nums, default=None)} \n",
    "   \n",
    "        return value          \n",
    "        \n",
    "\n",
    "# print(fields._fields['plant measurement'])\n",
    "\n",
    "\n",
    "template_path = RAW_DATA_DIR / 'fields.tpl.yml'\n",
    "fields.to_dict()\n",
    "# fields.to_template(template_path)\n",
    "\n",
    "    "
   ]
  },
  {
   "cell_type": "code",
   "execution_count": 2,
   "id": "d99d55eb-ed26-453e-8a2a-e1e1ec5e829e",
   "metadata": {},
   "outputs": [
    {
     "name": "stdout",
     "output_type": "stream",
     "text": [
      "INIT custom_sentencizer\n",
      "INIT custom_traits_entity\n",
      "INIT numeric_expand\n",
      "INIT numeric_dimensions\n",
      "INIT numeric_measurements\n",
      "INIT numeric_range\n",
      "INIT numeric_fraction\n"
     ]
    }
   ],
   "source": [
    "pipeline = Pipeline()"
   ]
  },
  {
   "cell_type": "code",
   "execution_count": 6,
   "id": "2af8346d-e381-4914-aeff-bfd82c6e8418",
   "metadata": {},
   "outputs": [
    {
     "name": "stdout",
     "output_type": "stream",
     "text": [
      "TOKEN:  8\n",
      "ENT:  8 mm\n",
      "8 mm\n",
      "HEYEYEY\n",
      "[4-5 cm, 10-20 cm, 0.9-7 cm, 2-3 mm, ca. 1 cm, 3.5 mm, ca. 5 mm, ca. 6 mm]\n"
     ]
    },
    {
     "name": "stderr",
     "output_type": "stream",
     "text": [
      "Field lobe measurement already has a value\n"
     ]
    }
   ],
   "source": [
    "# text = \"Trees, to 10 m tall, androdioecious. Bark gray-brown or dark brown, rough; branchlets slender, glabrous, those of present year purple-green or green, older ones gray-green or yellow-green. Winter buds purplish green, ovoid. Leaves persistent; petiole purple-green, 2-3.5 cm, glabrous; leaf blade abaxially gray-white, adaxially dark green and lucid, oblong-elliptic or elliptic, 10-14 × 3-6 cm, papery or subleathery, glabrous, pinnatinerved, lateral veins 8-12 pairs, base obtuse, apex caudate-acuminate, acumen 2-2.4 cm. Inflorescences cymose-paniculate, ca. 1.5 cm, pubescent. Sepals 5, yellowish green, ca. 2 × 7 mm. Petals 5, light yellow, ca. 1.8 × 0.4 mm. Stamens 8. Disk extrastaminal. Ovary purplish, villous. Fruit yellowish brown; nutlets flat, 1-2 cm × 6-7 mm; wing falcate, including nutlet 2-4 cm, wings spreading acutely. Fruit peduncle 1-2 cm, very slender. Fl. Aug-Oct, fr. Dec-Feb.\"\n",
    "text = 'Pseudostems to 3 m. Ligule ovate, entire, ca. 1 cm, margin minutely white hairy. Leaf blade narrowly lanceolate, 30--40 × 4--5 cm, glabrous, margin denticulate near acuminate apex. Panicles 10--20 cm, densely flowered; branches 2 or 3, 0.9--7 cm; bracts minute, ca. 7 mm; bracteoles absent. Pedicel 2--3 mm, pubescent. Calyx tubular, ca. 8 mm, obtusely ribbed, glabrous, apex 3-lobed. Corolla tube ca. 1 cm; central lobe oblong, ca. 7 × 3.5 mm, apex hooked, minutely mucronate; lateral lobes obovate-oblong, ca. 5 mm. Lateral staminodes 2, at base of labellum. Labellum nearly fan-shaped, ca. 1 cm; claw short; limb subreniform, 4-lobed. Filament linear, short, glabrous; anther oblong, short; connective crestless. Capsule ca. 6 mm in diam., glabrous.'\n",
    "fields = pipeline(text, 'angiosperm') "
   ]
  },
  {
   "cell_type": "code",
   "execution_count": 5,
   "id": "6ea97f88-f92b-4c90-9a40-71a5ab522cfc",
   "metadata": {},
   "outputs": [
    {
     "data": {
      "text/plain": [
       "'Pseudostems to 3 m. Ligule ovate, entire, ca. 1 cm, margin minutely white hairy. Leaf blade narrowly lanceolate, 30-40 x 4-5 cm, glabrous, margin denticulate near acuminate apex. Panicles 10-20 cm, densely flowered; branches 2 or 3, 0.9-7 cm; bracts minute, ca. 7 mm; bracteoles absent. Pedicel 2-3 mm, pubescent. Calyx tubular, ca. 8 mm, obtusely ribbed, glabrous, apex 3-lobed. Corolla tube ca. 1 cm; central lobe oblong, ca. 7 x 3.5 mm, apex hooked, minutely mucronate; lateral lobes obovate-oblong, ca. 5 mm. Lateral staminodes 2, at base of labellum. Labellum nearly fan-shaped, ca. 1 cm; claw short; limb subreniform, 4-lobed. Filament linear, short, glabrous; anther oblong, short; connective crestless. Capsule ca. 6 mm in diameter. , glabrous.'"
      ]
     },
     "execution_count": 5,
     "metadata": {},
     "output_type": "execute_result"
    }
   ],
   "source": [
    "text = 'Pseudostems to 3 m. Ligule ovate, entire, ca. 1 cm, margin minutely white hairy. Leaf blade narrowly lanceolate, 30--40 × 4--5 cm, glabrous, margin denticulate near acuminate apex. Panicles 10--20 cm, densely flowered; branches 2 or 3, 0.9--7 cm; bracts minute, ca. 7 mm; bracteoles absent. Pedicel 2--3 mm, pubescent. Calyx tubular, ca. 8 mm, obtusely ribbed, glabrous, apex 3-lobed. Corolla tube ca. 1 cm; central lobe oblong, ca. 7 × 3.5 mm, apex hooked, minutely mucronate; lateral lobes obovate-oblong, ca. 5 mm. Lateral staminodes 2, at base of labellum. Labellum nearly fan-shaped, ca. 1 cm; claw short; limb subreniform, 4-lobed. Filament linear, short, glabrous; anther oblong, short; connective crestless. Capsule ca. 6 mm in diam., glabrous.'\n",
    "\n",
    "preprocess = Preprocess()\n",
    "\n",
    "preprocess(text)"
   ]
  },
  {
   "cell_type": "code",
   "execution_count": 10,
   "id": "d494cf3e-6607-495f-b1f8-a4cb78379882",
   "metadata": {},
   "outputs": [
    {
     "name": "stdout",
     "output_type": "stream",
     "text": [
      "OrderedDict([('indumentum', 'hairy'), ('plant colour', 'white'), ('leaf shape', 'lanceolate'), ('leaf apex', 'lanceolate, acuminate'), ('leaf margin', 'denticulate'), ('leaf measurement.y.min', '30.0 cm'), ('leaf measurement.y.max', '40.0 cm'), ('leaf measurement.x.min', '4.0 cm'), ('leaf measurement.x.max', '5.0 cm'), ('inflorescence arrangement', 'panicle'), ('panicle measurement.y.min', '10.0 cm'), ('panicle measurement.y.max', '20.0 cm'), ('habit', 'tree/shrub'), ('clonality', 'solitary plant'), ('perennial organ', 'trunk'), ('branch number', '2'), ('dispersion axillary', 'absent'), ('pedicel measurement.y.min', '2.0 mm'), ('pedicel measurement.y.max', '3.0 mm'), ('lobed number', '3-'), ('corolla measurement.y.min', '1.0 cm'), ('corolla measurement.y.max', '1.0 cm'), ('lobe measurement.y.min', '7.0 mm'), ('lobe measurement.y.max', '7.0 mm'), ('lobe measurement.x.min', '3.5 mm'), ('lobe measurement.x.max', '3.5 mm'), ('petal fusion', 'free'), ('flower symmetry', 'zygomorphic'), ('fruit type', 'capsule'), ('fruit dehiscence', 'dehiscent'), ('fruit structure', 'dry'), ('capsule measurement.y.min', '6.0 mm'), ('capsule measurement.y.max', '6.0 mm')])\n"
     ]
    }
   ],
   "source": [
    "print(fields.to_dict())"
   ]
  },
  {
   "cell_type": "code",
   "execution_count": 10,
   "id": "2d17e6a3-d60e-415c-8454-484925793660",
   "metadata": {},
   "outputs": [
    {
     "name": "stdout",
     "output_type": "stream",
     "text": [
      "OrderedDict([('habit', 'tree, tree/shrub'), ('clonality', 'solitary plant'), ('perennial organ', 'trunk'), ('habitat', 'tree'), ('reproduction system', 'androdioecious'), ('plant measurement.y.min', '10.0 m'), ('plant measurement.y.max', '10.0 m'), ('indumentum', 'glabrous'), ('bud colour', 'green, purplish'), ('petiole measurement.y.min', '2.0 cm'), ('petiole measurement.y.max', '3.5 cm'), ('petiole colour', 'green, purple'), ('leaf shape', 'elliptic'), ('leaf architecture', 'pinnatipartite'), ('leaf apex', 'acuminate, obtuse, caudate'), ('leaf measurement.y.min', '10.0 cm'), ('leaf measurement.y.max', '14.0 cm'), ('leaf measurement.x.min', '3.0 cm'), ('leaf measurement.x.max', '6.0 cm'), ('leaf colour', 'green, gray-white'), ('inflorescence arrangement', 'cyme, panicle'), ('inflorescence measurement.y.min', '1.5 cm'), ('inflorescence measurement.y.max', '1.5 cm'), ('sepal measurement.y.min', '2.0 mm'), ('sepal measurement.y.max', '2.0 mm'), ('sepal measurement.x.min', '7.0 mm'), ('sepal measurement.x.max', '7.0 mm'), ('sepal colour', 'green, yellowish'), ('sepal number', '5'), ('petal measurement.y.min', '1.8 mm'), ('petal measurement.y.max', '1.8 mm'), ('petal measurement.x.min', '0.4 mm'), ('petal measurement.x.max', '0.4 mm'), ('petal colour', 'yellow'), ('petal number', '5'), ('stamen number', '8'), ('ovary colour', 'purplish'), ('fruit colour', 'brown, yellowish'), ('peduncle measurement.y.min', '1.0 cm'), ('peduncle measurement.y.max', '2.0 cm')])\n"
     ]
    }
   ],
   "source": [
    "import re\n",
    "from pathlib import Path\n",
    "import yaml\n",
    "\n",
    "class FieldOutputTemplate():\n",
    "    \n",
    "    \"\"\"\n",
    "    Load output field defintions from a template file, and map the output to the field names\n",
    "    We do this, so th eoutput can be prepared for AC\n",
    "    \"\"\"\n",
    "    \n",
    "    regexes = {\n",
    "        'unit': re.compile('\\[([a-z³]+)\\]'),\n",
    "        'minmax': re.compile(r'\\b(min|max)\\b'),\n",
    "        'axis': re.compile(r'\\b(x|y)\\b')\n",
    "    }\n",
    "\n",
    "    def __init__(self, template_path: Path):\n",
    "        with template_path.open('r') as f:\n",
    "            self._tpl = yaml.full_load(f)\n",
    "        \n",
    "    def get_data(self, fields):\n",
    "        return {src: self._get_value(src, targets, fields) for src, targets in self._tpl.items()}\n",
    "        \n",
    "    def _get_value(self, src, targets, fields):        \n",
    "        # Template can have a list of targets - so if just a string convert to a list         \n",
    "        if not isinstance(targets, list):\n",
    "            targets = [targets]\n",
    "            \n",
    "        for target in targets:\n",
    "            if value := self._get_field_value(src, target, fields):\n",
    "                return value\n",
    "            \n",
    "    def _get_field_value(self, src, target, fields):        \n",
    "        field_dict = {}\n",
    "        self._re('unit', src, field_dict)\n",
    "        if target:\n",
    "            field_name = target.split('.')[0]\n",
    "            self._re('minmax', target, field_dict)\n",
    "            self._re('axis', target, field_dict)\n",
    "        else:\n",
    "            field_name = src\n",
    "        \n",
    "        if field := fields.get(field_name):\n",
    "            return field.get_value(**field_dict)\n",
    "            \n",
    "    def _re(self, name, field_name, field_dict):        \n",
    "        if match := self.regexes[name].search(field_name):\n",
    "            field_dict[name] = match.group(1)\n",
    "            \n",
    "# template_path = RAW_DATA_DIR / 'fields.tpl.yml'            \n",
    "# tpl = FieldOutputTemplate(template_path)\n",
    "# tpl.get_data(fields._fields)      \n",
    "\n",
    "print(fields.to_dict())"
   ]
  },
  {
   "cell_type": "code",
   "execution_count": 15,
   "id": "088eb7a5-4205-4b4b-81c1-9b9d38092d07",
   "metadata": {},
   "outputs": [],
   "source": [
    "s = '2 m by 20.20m'"
   ]
  },
  {
   "cell_type": "code",
   "execution_count": 16,
   "id": "63793458-fd19-43aa-8b1c-08bdde201430",
   "metadata": {},
   "outputs": [
    {
     "data": {
      "text/plain": [
       "['2', '20.20']"
      ]
     },
     "execution_count": 16,
     "metadata": {},
     "output_type": "execute_result"
    }
   ],
   "source": [
    "re.findall(\"(\\d+(?:\\.\\d+)?)\",s)"
   ]
  },
  {
   "cell_type": "code",
   "execution_count": 11,
   "id": "314b5b23-0955-41d6-836f-f54879446856",
   "metadata": {},
   "outputs": [
    {
     "ename": "ValueError",
     "evalue": "invalid literal for int() with base 10: '2.'",
     "output_type": "error",
     "traceback": [
      "\u001b[0;31m---------------------------------------------------------------------------\u001b[0m",
      "\u001b[0;31mValueError\u001b[0m                                Traceback (most recent call last)",
      "Cell \u001b[0;32mIn[11], line 1\u001b[0m\n\u001b[0;32m----> 1\u001b[0m \u001b[38;5;28;43mint\u001b[39;49m\u001b[43m(\u001b[49m\u001b[38;5;124;43m'\u001b[39;49m\u001b[38;5;124;43m2.\u001b[39;49m\u001b[38;5;124;43m'\u001b[39;49m\u001b[43m)\u001b[49m\n",
      "\u001b[0;31mValueError\u001b[0m: invalid literal for int() with base 10: '2.'"
     ]
    }
   ],
   "source": [
    "int('2.')"
   ]
  },
  {
   "cell_type": "code",
   "execution_count": 22,
   "id": "e893901e-3904-4a00-8baf-33be2df53382",
   "metadata": {},
   "outputs": [],
   "source": [
    "names = ['Alpinia bambusifolia', 'Alpinia galang']"
   ]
  },
  {
   "cell_type": "code",
   "execution_count": 26,
   "id": "19c69bc1-b8f8-49d1-aacb-1a933189abf0",
   "metadata": {},
   "outputs": [
    {
     "data": {
      "text/plain": [
       "'7c597ed5e9cf5ff19d1fac3e6f25fbc7'"
      ]
     },
     "execution_count": 26,
     "metadata": {},
     "output_type": "execute_result"
    }
   ],
   "source": [
    "import uuid\n",
    "import pickle\n",
    "# uuid.uuid5(uuid.NAMESPACE_URL, ).hex\n",
    "\n",
    "uuid.uuid5(uuid.NAMESPACE_URL, str(pickle.dumps(names))).hex"
   ]
  },
  {
   "cell_type": "code",
   "execution_count": 28,
   "id": "179cb864-d794-4628-a3bd-d40fc02bee76",
   "metadata": {},
   "outputs": [
    {
     "data": {
      "text/plain": [
       "1.0"
      ]
     },
     "execution_count": 28,
     "metadata": {},
     "output_type": "execute_result"
    }
   ],
   "source": [
    "np.array([1]).mean()"
   ]
  },
  {
   "cell_type": "code",
   "execution_count": 6,
   "id": "e744156c-c572-4c46-b86e-e91577b7b981",
   "metadata": {},
   "outputs": [],
   "source": [
    "nlp = spacy.load(\"en_core_web_trf\")"
   ]
  },
  {
   "cell_type": "code",
   "execution_count": 8,
   "id": "cbd63811-9f20-4de2-8858-1bb46a60175e",
   "metadata": {},
   "outputs": [],
   "source": [
    "text = 'Pseudostems to 3 m. Ligule ovate, entire, ca. 1 cm, margin minutely white hairy. Leaf blade narrowly lanceolate, 30--40 × 4--5 cm, glabrous, margin denticulate near acuminate apex. Panicles 10--20 cm, densely flowered; branches 2 or 3, 0.9--7 cm; bracts minute, ca. 7 mm; bracteoles absent. Pedicel 2--3 mm, pubescent. Calyx tubular, ca. 8 mm, obtusely ribbed, glabrous, apex 3-lobed. Corolla tube ca. 1 cm; central lobe oblong, ca. 7 × 3.5 mm, apex hooked, minutely mucronate; lateral lobes obovate-oblong, ca. 5 mm. Lateral staminodes 2, at base of labellum. Labellum nearly fan-shaped, ca. 1 cm; claw short; limb subreniform, 4-lobed. Filament linear, short, glabrous; anther oblong, short; connective crestless. Capsule ca. 6 mm in diam., glabrous.'\n",
    "text = preprocess(text)"
   ]
  },
  {
   "cell_type": "code",
   "execution_count": 8,
   "id": "fc87b793-a910-4db8-b21d-1c18fb49d2d2",
   "metadata": {},
   "outputs": [
    {
     "ename": "NameError",
     "evalue": "name 'nlp' is not defined",
     "output_type": "error",
     "traceback": [
      "\u001b[0;31m---------------------------------------------------------------------------\u001b[0m",
      "\u001b[0;31mNameError\u001b[0m                                 Traceback (most recent call last)",
      "Cell \u001b[0;32mIn[8], line 1\u001b[0m\n\u001b[0;32m----> 1\u001b[0m doc \u001b[38;5;241m=\u001b[39m \u001b[43mnlp\u001b[49m(text)\n",
      "\u001b[0;31mNameError\u001b[0m: name 'nlp' is not defined"
     ]
    }
   ],
   "source": [
    "doc = nlp(text)"
   ]
  },
  {
   "cell_type": "code",
   "execution_count": 9,
   "id": "1351c89a-b25e-4302-a0cc-8710a31c4cc8",
   "metadata": {},
   "outputs": [
    {
     "ename": "NameError",
     "evalue": "name 'doc' is not defined",
     "output_type": "error",
     "traceback": [
      "\u001b[0;31m---------------------------------------------------------------------------\u001b[0m",
      "\u001b[0;31mNameError\u001b[0m                                 Traceback (most recent call last)",
      "Cell \u001b[0;32mIn[9], line 1\u001b[0m\n\u001b[0;32m----> 1\u001b[0m \u001b[38;5;28;01mfor\u001b[39;00m sent \u001b[38;5;129;01min\u001b[39;00m \u001b[43mdoc\u001b[49m\u001b[38;5;241m.\u001b[39msents:\n\u001b[1;32m      2\u001b[0m     \u001b[38;5;28mprint\u001b[39m(sent)\n\u001b[1;32m      3\u001b[0m     \u001b[38;5;28;01mfor\u001b[39;00m ent \u001b[38;5;129;01min\u001b[39;00m sent\u001b[38;5;241m.\u001b[39ments:\n",
      "\u001b[0;31mNameError\u001b[0m: name 'doc' is not defined"
     ]
    }
   ],
   "source": [
    "for sent in doc.sents:\n",
    "    print(sent)\n",
    "    for ent in sent.ents:\n",
    "        print(ent)\n",
    "        print(ent.label_)"
   ]
  },
  {
   "cell_type": "code",
   "execution_count": 54,
   "id": "77d85baf-daa9-45de-bb3f-800c049aafcf",
   "metadata": {},
   "outputs": [
    {
     "data": {
      "text/plain": [
       "'Capsule ca. 6 mm in diameter.'"
      ]
     },
     "execution_count": 54,
     "metadata": {},
     "output_type": "execute_result"
    }
   ],
   "source": [
    "s = 'Capsule ca 6 mm in diameter.'\n",
    "\n",
    "re.sub('\\sca\\s', ' ca. ', s)"
   ]
  },
  {
   "cell_type": "code",
   "execution_count": 24,
   "id": "7909ec9d-d945-430b-b352-1768af140479",
   "metadata": {},
   "outputs": [],
   "source": [
    "x = RAW_DATA_DIR / 'fields.tpl.yml'"
   ]
  },
  {
   "cell_type": "code",
   "execution_count": 25,
   "id": "9120a8d8-7010-4ea5-808c-39419f89e682",
   "metadata": {},
   "outputs": [
    {
     "data": {
      "text/plain": [
       "'fields.tpl'"
      ]
     },
     "execution_count": 25,
     "metadata": {},
     "output_type": "execute_result"
    }
   ],
   "source": [
    "x.stem"
   ]
  },
  {
   "cell_type": "code",
   "execution_count": null,
   "id": "44f4c0d8-cf9f-4041-819f-850ab3b28438",
   "metadata": {},
   "outputs": [],
   "source": []
  }
 ],
 "metadata": {
  "kernelspec": {
   "display_name": "ADEPT",
   "language": "python",
   "name": "adept"
  },
  "language_info": {
   "codemirror_mode": {
    "name": "ipython",
    "version": 3
   },
   "file_extension": ".py",
   "mimetype": "text/x-python",
   "name": "python",
   "nbconvert_exporter": "python",
   "pygments_lexer": "ipython3",
   "version": "3.10.2"
  }
 },
 "nbformat": 4,
 "nbformat_minor": 5
}
