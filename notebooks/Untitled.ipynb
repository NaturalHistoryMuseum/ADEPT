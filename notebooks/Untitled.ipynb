{
 "cells": [
  {
   "cell_type": "code",
   "execution_count": 9,
   "id": "ae4c0e32-c039-4ef5-9200-5df2e6699ae9",
   "metadata": {},
   "outputs": [],
   "source": [
    "from quantulum3 import parser"
   ]
  },
  {
   "cell_type": "code",
   "execution_count": 12,
   "id": "da72254d-cebf-4e4e-9cdf-dce4e2cb162a",
   "metadata": {},
   "outputs": [
    {
     "data": {
      "text/plain": [
       "[]"
      ]
     },
     "execution_count": 12,
     "metadata": {},
     "output_type": "execute_result"
    }
   ],
   "source": [
    "parser.parse('3-1 cm')"
   ]
  },
  {
   "cell_type": "code",
   "execution_count": 13,
   "id": "86f29540-de9c-4898-8eec-d70b31432ea4",
   "metadata": {},
   "outputs": [],
   "source": [
    "x = dict()"
   ]
  },
  {
   "cell_type": "code",
   "execution_count": 16,
   "id": "108a1957-55ed-4d82-986c-73d8b41859d1",
   "metadata": {},
   "outputs": [
    {
     "data": {
      "text/plain": [
       "2"
      ]
     },
     "execution_count": 16,
     "metadata": {},
     "output_type": "execute_result"
    }
   ],
   "source": [
    "x['x'] = 1\n",
    "x['y'] = 5\n",
    "\n",
    "len(x)"
   ]
  },
  {
   "cell_type": "code",
   "execution_count": null,
   "id": "f0c3888d-9803-4332-83ac-ed9a8e5cb5bd",
   "metadata": {},
   "outputs": [],
   "source": []
  }
 ],
 "metadata": {
  "kernelspec": {
   "display_name": "ADEPT",
   "language": "python",
   "name": "adept"
  },
  "language_info": {
   "codemirror_mode": {
    "name": "ipython",
    "version": 3
   },
   "file_extension": ".py",
   "mimetype": "text/x-python",
   "name": "python",
   "nbconvert_exporter": "python",
   "pygments_lexer": "ipython3",
   "version": "3.10.2"
  }
 },
 "nbformat": 4,
 "nbformat_minor": 5
}
