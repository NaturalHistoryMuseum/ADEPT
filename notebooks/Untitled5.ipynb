{
 "cells": [
  {
   "cell_type": "code",
   "execution_count": 28,
   "id": "af86aee4-5543-48ec-8864-c2c8fd20a958",
   "metadata": {},
   "outputs": [],
   "source": [
    "import pandas as pd\n",
    "import re\n",
    "import spacy\n",
    "\n",
    "from adept.config import DATA_DIR, TRAINING_DIR, PROCESSED_DATA_DIR\n",
    "from adept.preprocess import Preprocess\n",
    "from adept.postprocess import Postproccess\n",
    "import spacy\n",
    "from spacy.language import Language\n",
    "from spacy.tokens import Doc\n",
    "from adept.components.registry import create_sentencizer_component\n",
    "from adept.components.numeric.range import NumericRange\n",
    "from adept.utils.helpers import token_get_ent"
   ]
  },
  {
   "cell_type": "code",
   "execution_count": 2,
   "id": "69ebb1de-f773-40d2-bd20-3a1821e2dc26",
   "metadata": {},
   "outputs": [
    {
     "name": "stdout",
     "output_type": "stream",
     "text": [
      "FFFF\n"
     ]
    }
   ],
   "source": [
    "# nlp = spacy.load('en_core_web_trf')\n",
    "\n",
    "nlp = spacy.load(TRAINING_DIR / 'adept')"
   ]
  },
  {
   "cell_type": "code",
   "execution_count": 3,
   "id": "6d096f64-f9cb-4f2e-8590-22b14e28eb38",
   "metadata": {},
   "outputs": [
    {
     "data": {
      "text/plain": [
       "[('sentencizer',\n",
       "  <adept.components.sentencizer.SentencizerComponent at 0x146a06350>),\n",
       " ('transformer',\n",
       "  <spacy_transformers.pipeline_component.Transformer at 0x14673fe80>),\n",
       " ('tagger', <spacy.pipeline.tagger.Tagger at 0x1450b4880>),\n",
       " ('parser', <spacy.pipeline.dep_parser.DependencyParser at 0x1467812a0>),\n",
       " ('lemmatizer', <spacy.lang.en.lemmatizer.EnglishLemmatizer at 0x1467c4c80>),\n",
       " ('ner', <spacy.pipeline.ner.EntityRecognizer at 0x1467813f0>)]"
      ]
     },
     "execution_count": 3,
     "metadata": {},
     "output_type": "execute_result"
    }
   ],
   "source": [
    "nlp.pipeline"
   ]
  },
  {
   "cell_type": "code",
   "execution_count": 13,
   "id": "b98098e0-5783-4335-8357-a6e6c5779290",
   "metadata": {},
   "outputs": [
    {
     "ename": "ValueError",
     "evalue": "[E004] Can't set up pipeline component: a factory for 'numeric_range' already exists. Existing factory: <function create_sentencizer_component at 0x10f040040>. New factory: <function create_sentencizer_component at 0x10ef7bc70>",
     "output_type": "error",
     "traceback": [
      "\u001b[0;31m---------------------------------------------------------------------------\u001b[0m",
      "\u001b[0;31mValueError\u001b[0m                                Traceback (most recent call last)",
      "Cell \u001b[0;32mIn[13], line 7\u001b[0m\n\u001b[1;32m      2\u001b[0m \u001b[38;5;28;01mfrom\u001b[39;00m \u001b[38;5;21;01mspacy\u001b[39;00m\u001b[38;5;21;01m.\u001b[39;00m\u001b[38;5;21;01mmatcher\u001b[39;00m \u001b[38;5;28;01mimport\u001b[39;00m Matcher\n\u001b[1;32m      3\u001b[0m \u001b[38;5;28;01mfrom\u001b[39;00m \u001b[38;5;21;01mspacy\u001b[39;00m\u001b[38;5;21;01m.\u001b[39;00m\u001b[38;5;21;01mtokens\u001b[39;00m \u001b[38;5;28;01mimport\u001b[39;00m Span\n\u001b[1;32m      6\u001b[0m \u001b[38;5;129;43m@Language\u001b[39;49m\u001b[38;5;241;43m.\u001b[39;49m\u001b[43mfactory\u001b[49m\u001b[43m(\u001b[49m\u001b[38;5;124;43m\"\u001b[39;49m\u001b[38;5;124;43mnumeric_range\u001b[39;49m\u001b[38;5;124;43m\"\u001b[39;49m\u001b[43m)\u001b[49m\n\u001b[0;32m----> 7\u001b[0m \u001b[38;5;28;43;01mdef\u001b[39;49;00m\u001b[43m \u001b[49m\u001b[38;5;21;43mcreate_sentencizer_component\u001b[39;49m\u001b[43m(\u001b[49m\u001b[43mnlp\u001b[49m\u001b[43m:\u001b[49m\u001b[43m \u001b[49m\u001b[43mLanguage\u001b[49m\u001b[43m,\u001b[49m\u001b[43m \u001b[49m\u001b[43mname\u001b[49m\u001b[43m:\u001b[49m\u001b[43m \u001b[49m\u001b[38;5;28;43mstr\u001b[39;49m\u001b[43m)\u001b[49m\u001b[43m:\u001b[49m\n\u001b[1;32m      8\u001b[0m \u001b[43m    \u001b[49m\u001b[38;5;28;43;01mreturn\u001b[39;49;00m\u001b[43m \u001b[49m\u001b[43mNumericRange\u001b[49m\u001b[43m(\u001b[49m\u001b[43mnlp\u001b[49m\u001b[43m)\u001b[49m\n\u001b[1;32m     11\u001b[0m \u001b[38;5;28;01mclass\u001b[39;00m \u001b[38;5;21;01mNumericRange\u001b[39;00m: \n",
      "File \u001b[0;32m~/Projects/NaturalHistoryMuseum/ADEPT/ADEPT/.venv/lib/python3.10/site-packages/spacy/language.py:489\u001b[0m, in \u001b[0;36mLanguage.factory.<locals>.add_factory\u001b[0;34m(factory_func)\u001b[0m\n\u001b[1;32m    485\u001b[0m     \u001b[38;5;28;01mif\u001b[39;00m \u001b[38;5;129;01mnot\u001b[39;00m util\u001b[38;5;241m.\u001b[39mis_same_func(factory_func, existing_func):\n\u001b[1;32m    486\u001b[0m         err \u001b[38;5;241m=\u001b[39m Errors\u001b[38;5;241m.\u001b[39mE004\u001b[38;5;241m.\u001b[39mformat(\n\u001b[1;32m    487\u001b[0m             name\u001b[38;5;241m=\u001b[39mname, func\u001b[38;5;241m=\u001b[39mexisting_func, new_func\u001b[38;5;241m=\u001b[39mfactory_func\n\u001b[1;32m    488\u001b[0m         )\n\u001b[0;32m--> 489\u001b[0m         \u001b[38;5;28;01mraise\u001b[39;00m \u001b[38;5;167;01mValueError\u001b[39;00m(err)\n\u001b[1;32m    491\u001b[0m arg_names \u001b[38;5;241m=\u001b[39m util\u001b[38;5;241m.\u001b[39mget_arg_names(factory_func)\n\u001b[1;32m    492\u001b[0m \u001b[38;5;28;01mif\u001b[39;00m \u001b[38;5;124m\"\u001b[39m\u001b[38;5;124mnlp\u001b[39m\u001b[38;5;124m\"\u001b[39m \u001b[38;5;129;01mnot\u001b[39;00m \u001b[38;5;129;01min\u001b[39;00m arg_names \u001b[38;5;129;01mor\u001b[39;00m \u001b[38;5;124m\"\u001b[39m\u001b[38;5;124mname\u001b[39m\u001b[38;5;124m\"\u001b[39m \u001b[38;5;129;01mnot\u001b[39;00m \u001b[38;5;129;01min\u001b[39;00m arg_names:\n",
      "\u001b[0;31mValueError\u001b[0m: [E004] Can't set up pipeline component: a factory for 'numeric_range' already exists. Existing factory: <function create_sentencizer_component at 0x10f040040>. New factory: <function create_sentencizer_component at 0x10ef7bc70>"
     ]
    }
   ],
   "source": [
    "from spacy.language import Language\n",
    "from spacy.matcher import Matcher\n",
    "from spacy.tokens import Span\n",
    "\n",
    "\n",
    "@Language.factory(\"numeric_range\")\n",
    "def create_sentencizer_component(nlp: Language, name: str):\n",
    "    return NumericRange(nlp)\n",
    "\n",
    "\n",
    "class NumericRange: \n",
    "    \n",
    "    \"\"\"\n",
    "    \n",
    "    Match on MEASUREMENT, CARDINAL and CARDINAL containing range characters (, -, +)\n",
    "    \n",
    "    Parses the range into a dict with keys: lower, from, to, upper\n",
    "    \n",
    "\n",
    "    Returns:\n",
    "        doc: doc object with range, is_range extension\n",
    "    \"\"\"\n",
    "    \n",
    "    name = 'numeric_range'\n",
    "    \n",
    "    re_range = re.compile('((?P<lower>[0-9.\\/]+)\\-?\\))?\\s?(?P<from>[0-9.\\/]+)[\\(\\)\\s]?\\-[\\(\\)\\s]?(?P<to>[0-9.\\/]+)\\s?(\\(\\-?(?P<upper>[0-9.\\/]+))?')\n",
    "    \n",
    "    def __init__(self, nlp):\n",
    "        self.matcher = Matcher(nlp.vocab) \n",
    "        # Matcher for (, ) or -, contained within QUANTITY or CARDINAL entity type   \n",
    "        for ent_type in ['MEASUREMENT', 'DIMENSION', 'CARDINAL', 'VOLUME']:\n",
    "            self.matcher.add('RANGE', [[{\"ENT_TYPE\": ent_type}, {\"LOWER\": {\"REGEX\": r'^-|\\(\\)$'}}]])        \n",
    "                \n",
    "        Span.set_extension(\"numeric_range\", default=[], force=True)\n",
    "        # Token.set_extension(\"is_numeric_range\", default=False, force=True)\n",
    "    \n",
    "    def __call__(self, doc):\n",
    "\n",
    "        return call(doc, self.matcher)"
   ]
  },
  {
   "cell_type": "code",
   "execution_count": 44,
   "id": "539d2acc-6a0a-49ff-8771-81bd3efc6487",
   "metadata": {},
   "outputs": [],
   "source": [
    "re_range = re.compile('((?P<lower>[0-9.\\/]+)\\-?\\))?\\s?(?P<from>[0-9.\\/]+)[\\(\\)\\s]?\\-[\\(\\)\\s]?(?P<to>[0-9.\\/]+)\\s?(\\(\\-?(?P<upper>[0-9.\\/]+))?')\n",
    "\n",
    "\n"
   ]
  },
  {
   "cell_type": "code",
   "execution_count": 6,
   "id": "968ab20a-bb9d-4bb6-9e75-22310e657ab5",
   "metadata": {},
   "outputs": [
    {
     "data": {
      "text/plain": [
       "<__main__.NumericRange at 0x147a24460>"
      ]
     },
     "execution_count": 6,
     "metadata": {},
     "output_type": "execute_result"
    }
   ],
   "source": [
    "nlp.add_pipe(\"numeric_range\", after=\"ner\")"
   ]
  },
  {
   "cell_type": "code",
   "execution_count": 45,
   "id": "bd476368-7e86-4aea-a538-2c73b7f7e725",
   "metadata": {},
   "outputs": [],
   "source": [
    "text = 'Rhizomes creeping. Pseudostems 20--40 cm. Leaves sessile except for 2 apical ones; ligule brownish, 1--5 cm, sparsely appressed villous; leaf blade obovate or oblong, 15--27 × 8--10 cm, adaxially glabrous, abaxially appressed yellow villous along midvein, base cuneate, apex acute. Spikes 8--14 × 4--6 cm; rachis appressed yellow villous; bracts rusty, ovate-lanceolate, 3--4.6 × 1.2--2 cm, membranous, appressed yellow villous, 3-flowered; bracteoles tubular, 2.7--3 cm, appressed yellow villous. Flowers white, slightly fragrant. Calyx brownish, 3.3--3.5 cm, slightly split on 1 side, appressed yellow villous. Corolla tube ca. 4 cm, glabrous; lobes linear, 2.5--3 cm × 3--4 mm. Lateral staminodes oblanceolate, ca. 2.3 cm × 7 mm. Labellum broadly ovate, ca. 2.2 × 1.9 cm, apically slightly 2-lobed or 2-cleft for ca. 1/2 its length. Filament white, equaling labellum; anther 9 +- mm. Ovary 5 +- mm, appressed yellow villous. Stigma ciliate. Fl. Feb.'"
   ]
  },
  {
   "cell_type": "code",
   "execution_count": 46,
   "id": "fba27dbd-446c-49a4-8b60-643fe673a2a4",
   "metadata": {},
   "outputs": [
    {
     "name": "stdout",
     "output_type": "stream",
     "text": [
      "{'lower': None, 'from': '20', 'to': '40', 'upper': None}\n",
      "{'lower': None, 'from': '1', 'to': '5', 'upper': None}\n",
      "{'lower': None, 'from': '15', 'to': '27', 'upper': None}\n",
      "{'lower': None, 'from': '8', 'to': '10', 'upper': None}\n",
      "{'lower': None, 'from': '15', 'to': '27', 'upper': None}\n",
      "{'lower': None, 'from': '8', 'to': '10', 'upper': None}\n",
      "{'lower': None, 'from': '8', 'to': '14', 'upper': None}\n",
      "{'lower': None, 'from': '4', 'to': '6', 'upper': None}\n",
      "{'lower': None, 'from': '8', 'to': '14', 'upper': None}\n",
      "{'lower': None, 'from': '4', 'to': '6', 'upper': None}\n",
      "{'lower': None, 'from': '3', 'to': '4.6', 'upper': None}\n",
      "{'lower': None, 'from': '1.2', 'to': '2', 'upper': None}\n",
      "{'lower': None, 'from': '3', 'to': '4.6', 'upper': None}\n",
      "{'lower': None, 'from': '1.2', 'to': '2', 'upper': None}\n",
      "{'lower': None, 'from': '2.7', 'to': '3', 'upper': None}\n",
      "{'lower': None, 'from': '3.3', 'to': '3.5', 'upper': None}\n",
      "{'lower': None, 'from': '2.5', 'to': '3', 'upper': None}\n",
      "{'lower': None, 'from': '3', 'to': '4', 'upper': None}\n",
      "{'lower': None, 'from': '2.5', 'to': '3', 'upper': None}\n",
      "{'lower': None, 'from': '3', 'to': '4', 'upper': None}\n"
     ]
    }
   ],
   "source": [
    "preprocess = Preprocess()\n",
    "text = preprocess(text)          \n",
    "doc = nlp(text)"
   ]
  },
  {
   "cell_type": "code",
   "execution_count": 30,
   "id": "bf1fad8e-0a7f-4fa9-98fd-99097f1df017",
   "metadata": {},
   "outputs": [],
   "source": [
    "df = pd.read_csv(PROCESSED_DATA_DIR / 'af4b0c64764555e29e5f5a7847683c2f.descriptions.csv')"
   ]
  },
  {
   "cell_type": "code",
   "execution_count": 36,
   "id": "b3ad6404-e74e-42e3-ab41-3b780e0bccc2",
   "metadata": {},
   "outputs": [
    {
     "name": "stdout",
     "output_type": "stream",
     "text": [
      "0\n",
      "10\n",
      "20\n",
      "30\n",
      "40\n",
      "50\n",
      "60\n",
      "70\n",
      "80\n",
      "90\n",
      "100\n",
      "110\n",
      "120\n",
      "130\n",
      "140\n",
      "150\n",
      "160\n",
      "170\n",
      "180\n",
      "190\n",
      "200\n",
      "210\n",
      "220\n",
      "230\n",
      "240\n",
      "250\n",
      "260\n",
      "270\n",
      "280\n",
      "290\n",
      "300\n",
      "310\n",
      "320\n",
      "330\n",
      "340\n",
      "350\n",
      "360\n",
      "370\n",
      "380\n",
      "390\n",
      "400\n",
      "410\n",
      "420\n",
      "430\n",
      "440\n",
      "450\n",
      "460\n",
      "470\n",
      "480\n",
      "490\n",
      "500\n",
      "510\n",
      "520\n",
      "530\n",
      "540\n",
      "550\n",
      "560\n",
      "570\n",
      "580\n",
      "590\n",
      "600\n",
      "610\n",
      "620\n",
      "630\n",
      "640\n",
      "650\n",
      "660\n",
      "670\n",
      "680\n",
      "690\n",
      "700\n",
      "710\n",
      "720\n",
      "730\n",
      "740\n",
      "750\n",
      "760\n",
      "770\n",
      "780\n",
      "790\n",
      "800\n",
      "810\n",
      "820\n",
      "830\n"
     ]
    }
   ],
   "source": [
    "\n",
    "\n",
    "for i, text in enumerate(df['description']):\n",
    "    preprocess = Preprocess()\n",
    "    text = preprocess(text)          \n",
    "    doc = nlp(text)\n",
    "    if (i % 10) == 0:\n",
    "        print(i)\n",
    "    # break"
   ]
  },
  {
   "cell_type": "code",
   "execution_count": 26,
   "id": "055ea80b-1d3c-4309-a6b1-c5f33c68fd4f",
   "metadata": {},
   "outputs": [
    {
     "name": "stdout",
     "output_type": "stream",
     "text": [
      "20-40 cm\n",
      "{'lower': None, 'from': '20', 'to': '40', 'upper': None}\n",
      "1-5 cm\n",
      "{'lower': None, 'from': '1', 'to': '5', 'upper': None}\n",
      "15-27 x 8-10 cm\n",
      "{'lower': None, 'from': '15', 'to': '27', 'upper': None}\n",
      "{'lower': None, 'from': '8', 'to': '10', 'upper': None}\n",
      "15-27 x 8-10 cm\n",
      "{'lower': None, 'from': '15', 'to': '27', 'upper': None}\n",
      "{'lower': None, 'from': '8', 'to': '10', 'upper': None}\n",
      "8-14 x 4-6 cm\n",
      "{'lower': None, 'from': '8', 'to': '14', 'upper': None}\n",
      "{'lower': None, 'from': '4', 'to': '6', 'upper': None}\n",
      "8-14 x 4-6 cm\n",
      "{'lower': None, 'from': '8', 'to': '14', 'upper': None}\n",
      "{'lower': None, 'from': '4', 'to': '6', 'upper': None}\n",
      "3-4.6 x 1.2-2 cm\n",
      "{'lower': None, 'from': '3', 'to': '4.6', 'upper': None}\n",
      "{'lower': None, 'from': '1.2', 'to': '2', 'upper': None}\n",
      "3-4.6 x 1.2-2 cm\n",
      "{'lower': None, 'from': '3', 'to': '4.6', 'upper': None}\n",
      "{'lower': None, 'from': '1.2', 'to': '2', 'upper': None}\n",
      "2.7-3 cm\n",
      "{'lower': None, 'from': '2.7', 'to': '3', 'upper': None}\n",
      "3.3-3.5 cm\n",
      "{'lower': None, 'from': '3.3', 'to': '3.5', 'upper': None}\n",
      "2.5-3 cm x 3-4 mm\n",
      "{'lower': None, 'from': '2.5', 'to': '3', 'upper': None}\n",
      "{'lower': None, 'from': '3', 'to': '4', 'upper': None}\n",
      "2.5-3 cm x 3-4 mm\n",
      "{'lower': None, 'from': '2.5', 'to': '3', 'upper': None}\n",
      "{'lower': None, 'from': '3', 'to': '4', 'upper': None}\n"
     ]
    }
   ],
   "source": []
  },
  {
   "cell_type": "code",
   "execution_count": 8,
   "id": "51faee82-ba23-4054-ab92-aef6dd74091a",
   "metadata": {},
   "outputs": [
    {
     "name": "stdout",
     "output_type": "stream",
     "text": [
      "Rhizomes creeping.\n",
      "Pseudostems 20-40 cm.\n",
      "Leaves sessile except for 2 apical ones;\n",
      "ligule brownish, 1-5 cm, sparsely appressed villous;\n",
      "leaf blade obovate or oblong, 15-27 x 8-10 cm, adaxially glabrous, abaxially appressed yellow villous along midvein, base cuneate, apex acute.\n",
      "Spikes 8-14 x 4-6 cm;\n",
      "rachis appressed yellow villous;\n",
      "bracts rusty, ovate-lanceolate, 3-4.6 x 1.2-2 cm, membranous, appressed yellow villous, 3-flowered;\n",
      "bracteoles tubular, 2.7-3 cm, appressed yellow villous.\n",
      "Flowers white, slightly fragrant.\n",
      "Calyx brownish, 3.3-3.5 cm, slightly split on 1 side, appressed yellow villous.\n",
      "Corolla tube ca. 4 cm, glabrous;\n",
      "lobes linear, 2.5-3 cm x 3-4 mm.\n",
      "Lateral staminodes oblanceolate, ca. 2.3 cm x 7 mm.\n",
      "Labellum broadly ovate, ca. 2.2 x 1.9 cm, apically slightly 2-lobed or 2-cleft for ca. 0.5 its length.\n",
      "Filament white, equaling labellum;\n",
      "anther ca. 9 mm.\n",
      "Ovary ca. 5 mm, appressed yellow villous.\n",
      "Stigma ciliate.\n",
      "Flower.\n",
      "Feb.\n"
     ]
    }
   ],
   "source": [
    "for ent in doc.sents:\n",
    "    print(sent)"
   ]
  },
  {
   "cell_type": "code",
   "execution_count": 11,
   "id": "8d672c7a-bae8-4312-9d7b-df1c3e5d19f2",
   "metadata": {},
   "outputs": [
    {
     "name": "stdout",
     "output_type": "stream",
     "text": [
      "MEASUREMENT\n",
      "CARDINAL\n",
      "MEASUREMENT\n",
      "DIMENSION\n",
      "DIMENSION\n",
      "DIMENSION\n",
      "NUMERIC_CADJ\n",
      "MEASUREMENT\n",
      "MEASUREMENT\n",
      "CARDINAL\n",
      "MEASUREMENT\n",
      "DIMENSION\n",
      "DIMENSION\n",
      "DIMENSION\n",
      "NUMERIC_CADJ\n",
      "NUMERIC_CADJ\n",
      "CARDINAL\n",
      "MEASUREMENT\n",
      "MEASUREMENT\n"
     ]
    }
   ],
   "source": [
    "for ent in doc.ents:\n",
    "    print(ent.label_)"
   ]
  },
  {
   "cell_type": "code",
   "execution_count": 27,
   "id": "77bef5f6-931f-492d-9376-d368c9e9de1e",
   "metadata": {},
   "outputs": [
    {
     "data": {
      "text/plain": [
       "(52091, 73)"
      ]
     },
     "execution_count": 27,
     "metadata": {},
     "output_type": "execute_result"
    }
   ],
   "source": [
    "df.shape"
   ]
  },
  {
   "cell_type": "code",
   "execution_count": 29,
   "id": "54c73698-c5fc-4f86-8729-3ad6fba75a1a",
   "metadata": {},
   "outputs": [
    {
     "name": "stderr",
     "output_type": "stream",
     "text": [
      "/var/folders/qc/qfn2fhqj089dgly0lzbhrjrr0000gp/T/ipykernel_57300/4217007686.py:1: DtypeWarning: Columns (14,16,41,42,49,50,51,52,55,56,75,78,79,84,89,91,92,101) have mixed types. Specify dtype option on import or set low_memory=False.\n",
      "  df = pd.read_csv(DATA_DIR / '94ed2343-b94a-46dc-bb24-7cc2b080efb2_f5af5f212e1fe3fde9c1c3f736ea60e721480a92' / '05ff2255-c38a-40c9-b657-4ccb55ab2feb.csv')\n"
     ]
    }
   ],
   "source": [
    "df = pd.read_csv(DATA_DIR / '94ed2343-b94a-46dc-bb24-7cc2b080efb2_f5af5f212e1fe3fde9c1c3f736ea60e721480a92' / '05ff2255-c38a-40c9-b657-4ccb55ab2feb.csv')"
   ]
  },
  {
   "cell_type": "code",
   "execution_count": 33,
   "id": "9f917020-c1d6-4345-b8dd-7902150d8590",
   "metadata": {},
   "outputs": [],
   "source": [
    "countries = [\n",
    "    'India',\n",
    "    'Nepal',\n",
    "    'Sri Lanka',\n",
    "    'Pakistan',\n",
    "    'Bhutan',\n",
    "    'Bangladesh',\n",
    "    'Maldives',\n",
    "    'Seychelles'\n",
    "]\n",
    "\n",
    "\n",
    "subset = df[df['country'].str.contains('|'.join(countries), na=False, regex = True, flags=re.IGNORECASE)]"
   ]
  },
  {
   "cell_type": "code",
   "execution_count": 34,
   "id": "5207239f-ef77-4307-9152-e50abb7f3cff",
   "metadata": {},
   "outputs": [
    {
     "data": {
      "text/plain": [
       "(2936, 113)"
      ]
     },
     "execution_count": 34,
     "metadata": {},
     "output_type": "execute_result"
    }
   ],
   "source": [
    "subset.shape"
   ]
  },
  {
   "cell_type": "code",
   "execution_count": null,
   "id": "b97fc5e9-2bea-4d32-b0fd-d15d77222504",
   "metadata": {},
   "outputs": [],
   "source": []
  }
 ],
 "metadata": {
  "kernelspec": {
   "display_name": "ADEPT",
   "language": "python",
   "name": "adept"
  },
  "language_info": {
   "codemirror_mode": {
    "name": "ipython",
    "version": 3
   },
   "file_extension": ".py",
   "mimetype": "text/x-python",
   "name": "python",
   "nbconvert_exporter": "python",
   "pygments_lexer": "ipython3",
   "version": "3.10.2"
  }
 },
 "nbformat": 4,
 "nbformat_minor": 5
}
