{
 "cells": [
  {
   "cell_type": "code",
   "execution_count": 10,
   "id": "496ee183-5cb1-40f1-a5cb-68ada4d5d47e",
   "metadata": {},
   "outputs": [],
   "source": [
    "import typer\n",
    "import pandas as pd\n",
    "import spacy\n",
    "from pathlib import Path\n",
    "from tqdm import tqdm\n",
    "import numpy as np\n",
    "import warnings\n",
    "import yaml\n",
    "import itertools\n",
    "from collections import OrderedDict\n",
    "\n",
    "from adept.components.registry import ComponentsRegistry\n",
    "from adept.components.sentencizer import Sentencizer\n",
    "from adept.components.numeric import (NumericDimension, NumericExpand, NumericFraction, NumericMeasurement, NumericRange)\n",
    "from adept.components.anatomical import AnatomicalEntity\n",
    "from adept.components.traits import DiscreteTraitsEntity\n",
    "from adept.components.traits import CustomTraitsEntity\n",
    "from adept.traits import Traits\n",
    "from adept.tasks.patterns.anatomy import AnatomyPatternsTask, AnatomicalPartsTask\n",
    "from adept.utils.helpers import token_get_ent\n",
    "from adept.preprocess import Preprocess\n",
    "from adept.config import RAW_DATA_DIR"
   ]
  },
  {
   "cell_type": "code",
   "execution_count": 2,
   "id": "7d89b054-8655-4383-809c-9cbad6cde118",
   "metadata": {},
   "outputs": [],
   "source": [
    "%load_ext autoreload\n",
    "%autoreload 2"
   ]
  },
  {
   "cell_type": "code",
   "execution_count": 3,
   "id": "009abed6-46f1-49f6-8aba-681029823f7d",
   "metadata": {},
   "outputs": [
    {
     "name": "stdout",
     "output_type": "stream",
     "text": [
      "INIT custom_sentencizer\n",
      "INIT custom_traits_entity\n",
      "INIT numeric_expand\n",
      "INIT numeric_dimensions\n",
      "INIT numeric_measurements\n",
      "INIT numeric_range\n",
      "INIT numeric_fraction\n"
     ]
    }
   ],
   "source": [
    "nlp = spacy.load(\"en_core_web_trf\")\n",
    "     \n",
    "registry = ComponentsRegistry(nlp)\n",
    "registry.add_components([\n",
    "    Sentencizer,\n",
    "    AnatomicalEntity,\n",
    "    DiscreteTraitsEntity,\n",
    "    CustomTraitsEntity,\n",
    "    NumericExpand,\n",
    "    NumericDimension,\n",
    "    NumericMeasurement,\n",
    "    NumericRange,\n",
    "    NumericFraction,\n",
    "])"
   ]
  },
  {
   "cell_type": "code",
   "execution_count": 5,
   "id": "9d596ad0-a5d3-4395-9b2e-51a53ed9e692",
   "metadata": {},
   "outputs": [],
   "source": [
    "# text = 'A glabrous perennial 15-30(-40) cm. Rhizomes far-creeping producing tufts of 1-3 shoots at ± regular intervals. Roots pale yellow-brown. Scales grey brown, often tinged wine red, soon becoming fibrous.           Stems trigonous, smooth below, rough above, ± decumbent at base. Lvs 12-40 x 2-4 mm, concave, often curved, thick, bluntly keeled or channelled, gradually tapering to a trigonous point up to 5 cm long, mid green, ± shiny. Ligule 1-4 mm, broadly ovate or almost truncate. Lower sheaths lfless, persistent, thick, white, tinged with red. Infl 1/5-1/4 lngth of stem. Lower bract lf-like, about as long as infl, not sheathing, upper glumaceous.  Male spike 1(-2), 10-15 x 3 mm, fusiform. Male glumes 3-4 mm, ovate, acute or obtuse, dark purple-black with hyaline margin. Female spikes 1-2(-3), ± contiguous, (5-)10-15(-20) x 4-5 mm, ovoid or subglobose, erect, lower peduncled, upper ±  sessile. Female glumes 2-3 mm, ovate, acute, dark purplish-brown with pale midrib and hyaline margin, shorter than fr.  Utricle 3-3.5 mm, smooth, ±          inflated, dark purple green in upper half, shiny. Beak 0.5 mm, ±          notched. Stigmas 2, rarely 3. Nut 2 mm, subglobose.' \n",
    "# text = \"V-form Perennials, 40-100 cm tall 1 x 2 cm (usually rhizomatous, sometimes stoloniferous). Stems 1(-4), erect, yellow, 5 stamen, simple or branched, densely lanate-tomentose to glabrate. 5 ovaries. Leaves petiolate (proximally) or sessile (distally, weakly clasping and gradually reduced); blades oblong or lanceolate, 3.5-35+ cm x 5-35 mm, 1-2-pinnately lobed (ultimate lobes +- lanceolate, often arrayed in multiple planes), faces glabrate to sparsely tomentose or densely lanate. Heads 10-100+, in simple or compound, corymbiform arrays. Phyllaries 20-30 in +- 3 series, (light green, midribs dark green to yellowish, margins green to light or dark brown) ovate to lanceolate, abaxial faces tomentose. Receptacles convex; paleae lanceolate, 1.5-4 mm. Ray florets (3-)5-8, pistillate, fertile; corollas white or light pink to deep purple, laminae 1.5-3 x 1.5-3 mm. Disc florets 10-20; corollas white to grayish white, 2-4.5 mm. Cypselae 1-2 mm (margins broadly winged). 2n = 18, 27, 36, 45, 54, 63, 72 (including counts from Europe). Morphologic characters that have been used to segregate these populations into species and/or varieties include: (1) degree and persistence of tomentum; (2) phyllaries with greenish, light brown, or dark brown margins; (3) shapes of capitulescences (rounded or flat-topped); and (4) degrees of leaf dissection and shapes of lobes.\"\n",
    "\n",
    "preprocess = Preprocess()"
   ]
  },
  {
   "cell_type": "raw",
   "id": "94420f3b-3e13-45ca-ad32-2da7f859cd41",
   "metadata": {},
   "source": []
  },
  {
   "cell_type": "code",
   "execution_count": 6,
   "id": "33836909-8918-478b-be1a-a010873ad7f7",
   "metadata": {},
   "outputs": [
    {
     "data": {
      "text/plain": [
       "'Perennial 40-100 cm tall. Culms slender to moderately robust, erect or decumbent and rooting at lower nodes, up to 80 cm tall, nodes glabrous, eglandular or with glandular ring. Leaf sheaths shorter than internodes, glabrous except for ciliate outer margin; leaf blades narrowly lanceolate, 3-10 x 0.4-0.8 cm, glabrous, scabrid, base rounded, apex acute; ligule 1-2 mm. Panicle open, ovate in outline, 4-11 cm, glandular, many-spiculate; branches and pedicels filiform, flexuose; pedicels variable in length, shorter or longer than spikelets. Spikelets elliptic-globose, 1.5-2(-2.2) mm, greenish or purplish brown; florets slightly to clearly dissimilar; lower floret male, upper floret female; glumes subequal, as long as or shorter than florets, broadly elliptic, 5-7(-9)-veined, usually glabrous, rarely hispidulous or scaberulous above middle, apex broadly rounded; lower lemma oblong, cartilaginous to subcrustaceous, shallowly convex, back sometimes sulcate, smooth, glabrous; anthers 0.8-1.3 mm; upper lemma crustaceous, shorter and more convex, slightly rough, back glabrous or puberulous, upper margins ciliate. Flower. and fruit. summer to autumn. 2n = 60. Wet places, forming colonies, and as a weed of rice fields. Anhui. Fujian. Guangdong. Guangxi. Guizhou. Hebei. Henan. Hubei. Hunan. Jiangsu. Jiangxi. Liaoning. Shaanxi. Shandong. Taiwan. Yunnan. Zhejiang [Bangladesh. Bhutan. India. Indonesia. Japan. Korea. Malaysia. Nepal. New Guinea. Philippines. Sri Lanka. Thailand. Vietnam; Australia. Pacific Islands]. This is a widespread and very variable species. 2 ovaries. 56 stamenoids. Seed volume is about 2 cm3. It includes several ill-defined entities that have been given specific rank in the past. The typical form, from Japan, has spikelets with the florets only slightly dissimilar, nearly equal in length and texture and the upper floret rounded on the back without a central groove. This form is the most common entity in China. Specimens from India usually have more clearly unequal florets, the lower one longer and thinner, with a deep, longitudinal groove on the back. This form may have a glabrous or pubescent upper floret, and the pubescent variant is the basis of the name Isachne mili-acea. In SE Asia this division breaks down, with many intermediate forms. Specimens in which the florets are nearly equal but the lower one is grooved also occur in China. There is much variation in habit and spikelet size unrelated to other characters.'"
      ]
     },
     "execution_count": 6,
     "metadata": {},
     "output_type": "execute_result"
    }
   ],
   "source": [
    "text = \"\"\"Perennial 40-100 cm tall. Culms slender to moderately robust, erect or decumbent and rooting at lower nodes, up to 80 cm tall, nodes glabrous, eglandular or with glandular ring. Leaf sheaths shorter than internodes, glabrous except for ciliate outer margin; leaf blades narrowly lanceolate, 3–10 × 0.4–0.8 cm, glabrous, scabrid, base rounded, apex acute; ligule 1–2 mm. Panicle open, ovate in outline, 4–11 cm, glandular, many-spiculate; branches and pedicels filiform, flexuose; pedicels variable in length, shorter or longer than spikelets. Spikelets elliptic-globose, 1.5–2(–2.2) mm, greenish or purplish brown; florets slightly to clearly dissimilar; lower floret male, upper floret female; glumes subequal, as long as or shorter than florets, broadly elliptic, 5–7(–9)-veined, usually glabrous, rarely hispidulous or scaberulous above middle, apex broadly rounded; lower lemma oblong, cartilaginous to subcrustaceous, shallowly convex, back sometimes sulcate, smooth, glabrous; anthers 0.8–1.3 mm; upper lemma crustaceous, shorter and more convex, slightly rough, back glabrous or puberulous, upper margins ciliate. Fl. and fr. summer to autumn. 2n = 60.\n",
    "\n",
    "Wet places, forming colonies, and as a weed of rice fields. Anhui, Fujian, Guangdong, Guangxi, Guizhou, Hebei, Henan, Hubei, Hunan, Jiangsu, Jiangxi, Liaoning, Shaanxi, Shandong, Taiwan, Yunnan, Zhejiang [Bangladesh, Bhutan, India, Indonesia, Japan, Korea, Malaysia, Nepal, New Guinea, Philippines, Sri Lanka, Thailand, Vietnam; Australia, Pacific Islands].\n",
    "\n",
    "This is a widespread and very variable species. 2 ovaries. 56 stamenoids. Seed volume is about 2 cm³. It includes several ill-defined entities that have been given specific rank in the past. The typical form, from Japan, has spikelets with the florets only slightly dissimilar, nearly equal in length and texture and the upper floret rounded on the back without a central groove. This form is the most common entity in China. Specimens from India usually have more clearly unequal florets, the lower one longer and thinner, with a deep, longitudinal groove on the back. This form may have a glabrous or pubescent upper floret, and the pubescent variant is the basis of the name Isachne mili-acea. In SE Asia this division breaks down, with many intermediate forms. Specimens in which the florets are nearly equal but the lower one is grooved also occur in China. There is much variation in habit and spikelet size unrelated to other characters.\"\"\"\n",
    "text = preprocess(text)\n",
    "\n",
    "text"
   ]
  },
  {
   "cell_type": "code",
   "execution_count": 11,
   "id": "81d75567-e8ba-46a2-b006-10784ac4eb98",
   "metadata": {},
   "outputs": [],
   "source": [
    "doc = nlp(text)"
   ]
  },
  {
   "cell_type": "code",
   "execution_count": 12,
   "id": "8a82917c-488c-46a3-aa4f-e395a4421d29",
   "metadata": {},
   "outputs": [],
   "source": [
    "traits = Traits()"
   ]
  },
  {
   "cell_type": "code",
   "execution_count": 15,
   "id": "6a29d51d-dc6e-4c05-85a9-a02e43378639",
   "metadata": {},
   "outputs": [
    {
     "data": {
      "text/plain": [
       "OrderedDict([('life cycle', 'perennial'),\n",
       "             ('plant_measurement.y.min', '40.0 cm'),\n",
       "             ('plant_measurement.y.max', '100.0 cm'),\n",
       "             ('habit', 'tree/shrub, erect leafy/tussock'),\n",
       "             ('clonality', 'solitary plant, rhizome'),\n",
       "             ('perennial organ', 'trunk, rhizome'),\n",
       "             ('indumentum', 'glabrous, pubescent, glandular'),\n",
       "             ('leaf shape', 'orbicular, lanceolate'),\n",
       "             ('leaf base', 'rounded'),\n",
       "             ('leaf apex', 'acute, rounded'),\n",
       "             ('leaf_measurement.y.min', '3.0 cm'),\n",
       "             ('leaf_measurement.y.max', '10.0 cm'),\n",
       "             ('leaf_measurement.x.min', '0.4 cm'),\n",
       "             ('leaf_measurement.x.max', '0.8 cm'),\n",
       "             ('ligule_measurement.y.min', '1.0 mm'),\n",
       "             ('ligule_measurement.y.max', '2.0 mm'),\n",
       "             ('inflorescence arrangement', 'spiklet, panicle'),\n",
       "             ('panicle_measurement.y.min', '4.0 cm'),\n",
       "             ('panicle_measurement.y.max', '11.0 cm'),\n",
       "             ('spikelet_colour', 'brown, greenish, purplish'),\n",
       "             ('petal fusion', 'no perianth'),\n",
       "             ('spikelet_measurement.y.min', '1.5 mm'),\n",
       "             ('spikelet_measurement.y.max', '2.2 mm'),\n",
       "             ('flower architecture', 'naked'),\n",
       "             ('flower symmetry', 'no perianth'),\n",
       "             ('anther_measurement.y.min', '0.8 mm'),\n",
       "             ('anther_measurement.y.max', '1.3 mm'),\n",
       "             ('ploidy level (2n)', '2n = 60'),\n",
       "             ('ovary_number', '2'),\n",
       "             ('stamenoid_number', '56'),\n",
       "             ('seed_volume.min', '2.0 cm³'),\n",
       "             ('seed_volume.max', '2.0 cm³')])"
      ]
     },
     "execution_count": 15,
     "metadata": {},
     "output_type": "execute_result"
    }
   ],
   "source": [
    "from spacy.tokens import Span, Doc\n",
    "from abc import ABC, abstractmethod\n",
    "\n",
    "df = traits.get_discrete_traits('angiosperm')\n",
    "\n",
    "from adept.config import logger\n",
    "\n",
    "class Field(ABC):\n",
    "    \n",
    "    unique = False\n",
    "    \n",
    "    def __init__(self, name):\n",
    "        self.name = name\n",
    "        self.value = {} if self.unique else set()\n",
    "        \n",
    "    @abstractmethod\n",
    "    def set_value(self, value):\n",
    "        pass\n",
    "    \n",
    "    def get_value(self):\n",
    "        return ', '.join(self.value)\n",
    "    \n",
    "    def __repr__(self):\n",
    "        return f'{self.__class__.__name__}({self.value})'\n",
    "\n",
    "class MeasurementField(Field):\n",
    "    \n",
    "    # Length/height measurements are provided first, followed by width. \n",
    "    dimension_axes = ['y', 'x']    \n",
    "    unique = True\n",
    "\n",
    "    def set_value(self, measurements):        \n",
    "        if self.value: raise Exception(f'Field {self.name} already has a value')\n",
    "        self._set_value(measurements)\n",
    "        \n",
    "    def get_value(self, axis=None, minmax=None, unit=None):\n",
    "        if unit:\n",
    "            unit = unit_registry(unit)\n",
    "        \n",
    "        data = {}\n",
    "        # Build a dict of the values x.min         \n",
    "        for value_axis, value_dict in self.value.items():\n",
    "            data.setdefault(value_axis, {})\n",
    "            for mm, value in value_dict.items():\n",
    "                if unit:\n",
    "                    value = self.convert_value(value, unit)\n",
    "                data[value_axis][mm] = self._to_string(value)\n",
    "\n",
    "        # If axis / minmax set, filter the data\n",
    "        # FIXME: If minmax set, and not axis, this will fail         \n",
    "        if axis: data = data[axis]\n",
    "        if minmax: data = data[minmax]\n",
    "        return data\n",
    "    \n",
    "    @staticmethod \n",
    "    def _to_string(value):\n",
    "        # Convert value to string - uses the default formatting set in adept.config unit_registry.default_format  \n",
    "        return f'{value}'\n",
    "\n",
    "    @staticmethod \n",
    "    def convert_value(value, unit):\n",
    "        return value.to(unit)\n",
    "        \n",
    "    def _set_value(self, measurements):  \n",
    "        # If we have two measurements, treat them as y, x         \n",
    "        if len(measurements) == 2:\n",
    "            for axis, measurement in zip(self.dimension_axes, measurements):\n",
    "                self._set_axis_value(axis, measurement, measurement._.measurement_unit)\n",
    "        elif len(measurements) == 1:\n",
    "            measurement = measurements[0]\n",
    "            self._set_axis_value(self.dimension_axes[0], measurement, measurement._.measurement_unit)\n",
    "        \n",
    "    def _set_axis_value(self, axis, measurement: Span, unit):\n",
    "        if value := self._get_minmax_value(measurement, unit):\n",
    "            self.value[axis] = value\n",
    "\n",
    "    def _get_minmax_value(self, measurement: Span, unit):\n",
    "        # Some measurements are detected, but have no unit. \n",
    "        # E.g. Petals white, suborbicular, 6-7 x 5-6.\n",
    "        # No unit = do not use the measurement        \n",
    "        if not unit: return\n",
    "        value_dict = self._get_ent_value(measurement)\n",
    "        unpack = lambda ks: ([v for k in ks if (v := value_dict.get(k))])\n",
    "        return {\n",
    "            'min': self._to_unit(min(unpack(['lower', 'from']), default=None), unit),\n",
    "            'max': self._to_unit(max(unpack(['to', 'upper']), default=None), unit)\n",
    "        }\n",
    "        \n",
    "    @staticmethod\n",
    "    def _to_unit(value, unit):\n",
    "        if value:\n",
    "            return float(value) * unit\n",
    "    \n",
    "    @staticmethod\n",
    "    def _get_ent_value(ent: Span):\n",
    "        if ent._.numeric_range:\n",
    "            value = ent._.numeric_range\n",
    "        else:\n",
    "            # Also validate shape is d, dd, so cast to int won't fail\n",
    "            num = [int(token.text) for token in ent if token.pos_ == 'NUM' and set(token.shape_) == set('d')]\n",
    "            value = {'from': min(num, default=None), 'to': max(num, default=None)} \n",
    "   \n",
    "        return value  \n",
    "      \n",
    "class DimensionField(MeasurementField):\n",
    "    \n",
    "    def _set_value(self, dimension):        \n",
    "        for i, axis in enumerate(self.dimension_axes):                    \n",
    "             # 0 => 1; 1 => 0\n",
    "            adj_i = (i-1)**2\n",
    "            ent = dimension.ents[i]\n",
    "            # Sometimes the unit is only attached to one of the dimensions e.g. 1.5-2 x 1.7-2.2 cm             \n",
    "            unit = ent._.measurement_unit or dimension.ents[adj_i]._.measurement_unit            \n",
    "            self._set_axis_value(axis, ent, unit)  \n",
    "\n",
    "class VolumeField(MeasurementField):   \n",
    "    def _set_value(self, volume):          \n",
    "        self.value = self._get_minmax_value(volume, volume._.measurement_unit)\n",
    "\n",
    "    def get_value(self, minmax=None, unit=None):\n",
    "        if unit:\n",
    "            unit = unit_registry(unit)        \n",
    "        data = {}        \n",
    "        for mm, value in self.value.items():\n",
    "            if unit:\n",
    "                value = self.convert_value(value, unit)  \n",
    "            data[mm] = self._to_string(value)\n",
    "        if minmax: data = data[minmax]\n",
    "        return data    \n",
    "    \n",
    "            \n",
    "class DiscreteField(Field):\n",
    "    def set_value(self, value):\n",
    "        self.value.add(value)\n",
    "\n",
    "class NumericField(Field):\n",
    "    def set_value(self, num_ent: Span):\n",
    "        self.value = num_ent._.get(\"numeric_range\") or num_ent.text\n",
    "    def get_value(self):\n",
    "        return self.value\n",
    "        \n",
    "class Fields(object):\n",
    "    \n",
    "    _classes = {\n",
    "        'discrete': DiscreteField,\n",
    "        'measurement': MeasurementField,\n",
    "        'dimension': DimensionField,\n",
    "        'numeric': NumericField,\n",
    "        'volume': VolumeField,\n",
    "    }    \n",
    "    \n",
    "    def __init__(self):\n",
    "        self._fields = OrderedDict()\n",
    "        \n",
    "    def upsert(self, field_name, field_type, value):\n",
    "        # If we do not already have the field defined create it         \n",
    "        if not field_name in self._fields: \n",
    "            self._fields[field_name] = self._factory(field_type, field_name)\n",
    "\n",
    "        self._fields[field_name].set_value(value)\n",
    "            \n",
    "    def _factory(self, field_type, field_name):\n",
    "        return self._classes[field_type](field_name)  \n",
    "    \n",
    "    def to_dict(self):\n",
    "        data = OrderedDict()\n",
    "        for field in self._fields.values():    \n",
    "            value = field.get_value()\n",
    "            value_dict = {field.name: value}\n",
    "            if isinstance(value, dict):\n",
    "                # We want to turn measurement dicts etc into single dimension dicts e.g.\n",
    "                # {'field_name': {'y': {'min': 40.0, 'max': 100.0}}} => {'field_name.y.min': 40.0, 'field_name.y.max': 100.0}\n",
    "                value_dict = flatten_dict(value_dict)\n",
    "            data.update(value_dict)   \n",
    "        return data    \n",
    "\n",
    "fields = Fields()   \n",
    "    \n",
    "for sent in doc.sents:\n",
    "    \n",
    "    part = sent._.anatomical_part if sent._.anatomical_part else None\n",
    "    trait_entities = [ent for ent in sent.ents if ent.label_ == 'TRAIT']    \n",
    "    colour_entities = [ent for ent in sent.ents if ent.label_ == 'COLOUR']\n",
    "    \n",
    "    for colour in colour_entities:\n",
    "        # Just use a discrete field         \n",
    "        fields.upsert(f'{part}_colour', 'discrete', colour.lemma_)\n",
    "\n",
    "    # Process entities     \n",
    "    for ent in trait_entities:                \n",
    "        mask = ((df.term == ent.lemma_) | (df.term == ent.text))\n",
    "        # If the trait ent is a part, no need to filter on part         \n",
    "        if part != ent.lemma_:\n",
    "            # Plant part is an artificial construct, so we treate it as sent having no part             \n",
    "            if part and part != 'plant':\n",
    "                mask &= (df.part == part)\n",
    "            # If sent has no part, trait must have no part and must be unique             \n",
    "            else:\n",
    "                mask &= ((df.part.isna()) & (df.unique == True))\n",
    "            \n",
    "        rows = df[mask]     \n",
    "                        \n",
    "        for row in rows.itertuples():   \n",
    "            fields.upsert(row.trait, 'discrete', row.character)\n",
    "            \n",
    "    for ent in sent.ents:\n",
    "        if trait_value := ent._.get(\"trait_value\"):\n",
    "            fields.upsert(ent.label_.lower(), 'discrete', trait_value)\n",
    "\n",
    "    # We require a part for dimensions & measurements     \n",
    "    if part:\n",
    "        if sent._.dimensions:     \n",
    "            field_name = f'{part}_measurement'\n",
    "            fields.upsert(field_name, 'dimension', sent._.dimensions[0])\n",
    "        elif sent._.measurements:            \n",
    "            field_name = f'{part}_measurement'\n",
    "            fields.upsert(field_name, 'measurement', sent._.measurements)\n",
    "        elif sent._.volume_measurements:\n",
    "            field_name = f'{part}_volume'\n",
    "            fields.upsert(field_name, 'volume', sent._.volume_measurements[0])\n",
    "\n",
    "    # Process numeric values (those not measurements or dimensions)     \n",
    "    numeric_ents = [ent for ent in sent.ents if ent.label_ in ['CARDINAL', 'QUANTITY'] and not (ent[0]._.is_measurement or ent[0]._.is_dimension)]\n",
    "\n",
    "    # We use the dependency parse to find nummod noun, that's also an entity     \n",
    "    for num_ent in numeric_ents:\n",
    "        root = num_ent.root\n",
    "        if root.dep_ == 'nummod' and root.head.pos_ == 'NOUN':\n",
    "            if ent:= token_get_ent(root.head, ['PART', 'TRAIT']): \n",
    "                field_name = ent._.get(\"anatomical_part\") or ent.lemma_\n",
    "                fields.upsert(f'{field_name}_number', 'numeric', num_ent)\n",
    "                \n",
    "\n",
    "\n",
    "# fields._fields\n",
    "\n",
    "\n",
    "\n",
    "data = OrderedDict()\n",
    "for field in fields._fields.values():    \n",
    "    value = field.get_value()\n",
    "    value_dict = {field.name: value}\n",
    "    if isinstance(value, dict):\n",
    "        # We want to turn measurement dicts etc into single dimension dicts e.g.\n",
    "        # {'field_name': {'y': {'min': 40.0, 'max': 100.0}}} => {'field_name.y.min': 40.0, 'field_name.y.max': 100.0}\n",
    "        value_dict = flatten_dict(value_dict)\n",
    "    data.update(value_dict)\n",
    "    \n",
    "\n",
    "\n",
    "data"
   ]
  },
  {
   "cell_type": "code",
   "execution_count": null,
   "id": "fbe78da5-8472-4153-97f1-441379a40c73",
   "metadata": {},
   "outputs": [],
   "source": []
  },
  {
   "cell_type": "code",
   "execution_count": 48,
   "id": "088f038e-f77f-4df6-b6e9-5d968a0cd56d",
   "metadata": {},
   "outputs": [],
   "source": [
    "import re\n",
    "from adept.config import unit_registry\n",
    "\n",
    "\n",
    "\n",
    "\n",
    "class FieldOutputTemplate():\n",
    "    \n",
    "    \"\"\"\n",
    "    Load output field defintions from a template file, and map the output to the field names\n",
    "    \"\"\"\n",
    "    \n",
    "    regexes = {\n",
    "        'unit': re.compile('\\[([a-z³]+)\\]'),\n",
    "        'minmax': re.compile(r'\\b(min|max)\\b'),\n",
    "        'axis': re.compile(r'\\b(x|y)\\b')\n",
    "    }\n",
    "\n",
    "    def __init__(self, template_path: Path):\n",
    "        self._mapper = yaml.full_load(template_path.open('r'))\n",
    "        \n",
    "    def get_data(self, fields):\n",
    "        return {src: self._get_value(src, targets, fields) for src, targets in self._mapper.items()}\n",
    "        \n",
    "    def _get_value(self, src, targets, fields):        \n",
    "        # Template can have a list of targets - so if just a string convert to a list         \n",
    "        if not isinstance(targets, list):\n",
    "            targets = [targets]\n",
    "            \n",
    "        for target in targets:\n",
    "            if value := self._get_field_value(src, target, fields):\n",
    "                return value\n",
    "            \n",
    "    def _get_field_value(self, src, target, fields):        \n",
    "        field_dict = {}\n",
    "        self._re('unit', src, field_dict)\n",
    "        if target:\n",
    "            field_name = target.split('.')[0]\n",
    "            self._re('minmax', target, field_dict)\n",
    "            self._re('axis', target, field_dict)\n",
    "        else:\n",
    "            field_name = src\n",
    "\n",
    "        if field := fields.get(field_name):\n",
    "            return field.get_value(**field_dict)\n",
    "            \n",
    "    def _re(self, name, field_name, field_dict):        \n",
    "        if match := self.regexes[name].search(field_name):\n",
    "            field_dict[name] = match.group(1)\n",
    "\n",
    "mapper = FieldsMapper(RAW_DATA_DIR / 'fields.tpl.yml')\n",
    "data = mapper.get_data(fields._fields)        \n",
    "        \n",
    "\n",
    "\n",
    "# def get_unit(field_name):    \n",
    "#     # If field name has a unit specified (e.g. leaf min. width [cm])      \n",
    "#     if match := re.search('\\[([a-z³]+)\\]', field_name):\n",
    "#         unit = match.group(1)\n",
    "#         return unit_registry(unit)    \n",
    "    \n",
    "# # Specify axis // min/max    \n",
    "\n",
    "# axes = {'x', 'y'}\n",
    "# min_max = {'min', 'max'}\n",
    "# for src, target in fields_tpl.items():\n",
    "    \n",
    "    \n",
    "#     unit = get_unit(src)\n",
    "#     print(unit)\n",
    "    \n",
    "#     if target:\n",
    "#         target_parts = target.split('.')\n",
    "#         field_name = target_parts.pop(0)\n",
    "        # axis = axes.intersection(set(target_parts))\n",
    "        # print(axis)\n",
    "        # target_parts[1:]\n",
    "        # axis = ax\n",
    "        \n",
    "        \n",
    "#         field_params['']\n",
    "#         print(target_parts[1:])\n",
    "#         # field_def |= target_parts[1:]\n",
    "#     else:\n",
    "#         field_name = src\n",
    "#         field_def = []\n",
    "            \n",
    "#     # # FIXME: Get? Without create??     \n",
    "#     field = fields._fields.get(field_name)\n",
    "#     if field:\n",
    "#         print(field_name)\n",
    "#         print(field)\n",
    "#         print(field_def)\n",
    "    \n",
    "    # print(field_name)\n",
    "            \n",
    "        \n",
    "        \n",
    "        \n",
    "        \n",
    "        # print(src)\n",
    "        # print(target.split('.'))\n",
    "    \n",
    "# print(fields._fields.keys())"
   ]
  },
  {
   "cell_type": "code",
   "execution_count": 52,
   "id": "e0f764c5-85f6-4f8b-a865-fdeebfcb50fc",
   "metadata": {},
   "outputs": [
    {
     "data": {
      "text/plain": [
       "{'life cycle': 'perennial',\n",
       " 'plant_measurement.y.min': 40.0,\n",
       " 'plant_measurement.y.max': 100.0,\n",
       " 'habit': 'erect leafy/tussock, tree/shrub',\n",
       " 'clonality': 'solitary plant, rhizome',\n",
       " 'perennial organ': 'trunk, rhizome',\n",
       " 'indumentum': 'pubescent, glandular, glabrous',\n",
       " 'leaf shape': 'lanceolate, orbicular',\n",
       " 'leaf base': 'rounded',\n",
       " 'leaf apex': 'rounded, acute',\n",
       " 'leaf_measurement.y.min': 3.0,\n",
       " 'leaf_measurement.y.max': 10.0,\n",
       " 'leaf_measurement.x.min': 0.4,\n",
       " 'leaf_measurement.x.max': 0.8,\n",
       " 'ligule_measurement.y.min': 1.0,\n",
       " 'ligule_measurement.y.max': 2.0,\n",
       " 'inflorescence arrangement': 'panicle, spiklet',\n",
       " 'panicle_measurement.y.min': 4.0,\n",
       " 'panicle_measurement.y.max': 11.0,\n",
       " 'spikelet_colour': 'greenish, brown, purplish',\n",
       " 'petal fusion': 'no perianth',\n",
       " 'spikelet_measurement.y.min': 1.5,\n",
       " 'spikelet_measurement.y.max': 2.2,\n",
       " 'flower architecture': 'naked',\n",
       " 'flower symmetry': 'no perianth',\n",
       " 'anther_measurement.y.min': 0.8,\n",
       " 'anther_measurement.y.max': 1.3,\n",
       " 'ploidy level (2n)': '2n = 60',\n",
       " 'ovary_number': '2',\n",
       " 'stamenoid_number': '56',\n",
       " 'seed_volume.min': 2.0 <Unit('centimeter ** 3')>,\n",
       " 'seed_volume.max': 2.0 <Unit('centimeter ** 3')>}"
      ]
     },
     "execution_count": 52,
     "metadata": {},
     "output_type": "execute_result"
    }
   ],
   "source": [
    "\n",
    "    \n",
    "# FIXME: seed_volume.min"
   ]
  },
  {
   "cell_type": "code",
   "execution_count": 13,
   "id": "4a32a4f4-6e54-4066-bf73-611727eada52",
   "metadata": {},
   "outputs": [
    {
     "name": "stdout",
     "output_type": "stream",
     "text": [
      "1(-4)\n",
      "[]\n",
      "5\n",
      "[]\n",
      "5\n",
      "[]\n",
      "20-30\n",
      "{'lower': None, 'from': '20', 'to': '30', 'upper': None}\n",
      "10-20;\n",
      "{'lower': None, 'from': '10', 'to': '20', 'upper': None}\n"
     ]
    }
   ],
   "source": [
    "from spacy import displacy\n",
    "\n",
    "\n",
    "for sent in doc.sents:\n",
    "    \n",
    "    # Process numeric values (those not measurements or dimensions)     \n",
    "    numeric_ents = [ent for ent in sent.ents if ent.label_ in ['CARDINAL', 'QUANTITY'] and not (ent[0]._.is_measurement or ent[0]._.is_dimension)]\n",
    "    \n",
    "    # We use the dependency parse to find nummod noun, that's also an entity     \n",
    "    for num in numeric_ents:\n",
    "        root = num.root\n",
    "        if root.dep_ == 'nummod' and root.head.pos_ == 'NOUN':\n",
    "            if ent:= token_get_ent(root.head, ['PART', 'TRAIT']): \n",
    "                print(num)\n",
    "                print(num._.get(\"numeric_range\"))\n",
    "                # field_name = f'{ent.text}_num'\n",
    "                # fields.upsert(field_name, 'numeric', num)\n",
    "\n",
    "        # print()\n",
    "        \n",
    "    \n",
    "#     print(sent)\n",
    "#     print(cardinals)\n",
    "    \n",
    "#     for ent in sent.ents:\n",
    "#         print(ent.label_)\n",
    "        \n",
    "    \n",
    "#     # displacy.render(sent, style=\"dep\")\n",
    "\n",
    "#     for cardinal in cardinals:\n",
    "        \n",
    "#         # if cardinal.text == ''\n",
    "        \n",
    "#         root = cardinal.root\n",
    "#         print(root)\n",
    "        \n",
    "#         if root.dep_ == 'nummod':\n",
    "#             nummod_subj = root.head\n",
    "#             part = token_get_ent(nummod_subj, 'PART')\n",
    "#             print(nummod_subj)\n",
    "#             print(part)\n",
    "    \n",
    "    # print(dir(cardinal))\n",
    "    \n",
    "    \n",
    "\n",
    "# n = cardinals[0][0]\n",
    "# dir(cardinals[0][0])\n",
    "\n",
    "# list(n.ancestors)\n",
    "# n.dep_\n",
    "# n.head\n",
    "\n",
    "# dir(n)\n",
    "\n",
    "\n",
    "\n",
    "#     # print(sent)\n",
    "# for ent in sent.ents:\n",
    "#     print(ent)\n",
    "#     print(ent.label_)"
   ]
  },
  {
   "cell_type": "code",
   "execution_count": 89,
   "id": "be127eda-bc08-4889-9808-cde28e38dd6d",
   "metadata": {},
   "outputs": [
    {
     "name": "stdout",
     "output_type": "stream",
     "text": [
      "----\n",
      "PART: None\n",
      "QUANTITY\n",
      "40-100 cm\n",
      "[1 x 2 cm]\n",
      "----\n",
      "PART: None\n",
      "QUANTITY\n",
      "1\n",
      "[1 x 2 cm]\n",
      "----\n",
      "PART: None\n",
      "QUANTITY\n",
      "2 cm\n",
      "[1 x 2 cm]\n",
      "----\n",
      "PART: leaf\n",
      "QUANTITY\n",
      "3.5-35+ cm\n",
      "[3.5-35+ cm x 5-35 mm]\n",
      "----\n",
      "PART: leaf\n",
      "QUANTITY\n",
      "5-35 mm\n",
      "[3.5-35+ cm x 5-35 mm]\n",
      "----\n",
      "PART: leaf\n",
      "QUANTITY\n",
      "1-2-pinnately\n",
      "[3.5-35+ cm x 5-35 mm]\n",
      "----\n",
      "PART: palea\n",
      "QUANTITY\n",
      "1.5-4 mm\n",
      "[]\n",
      "----\n",
      "PART: corolla\n",
      "QUANTITY\n",
      "1.5-3\n",
      "[1.5-3 x 1.5-3 mm]\n",
      "----\n",
      "PART: corolla\n",
      "QUANTITY\n",
      "1.5-3 mm\n",
      "[1.5-3 x 1.5-3 mm]\n",
      "----\n",
      "PART: corolla\n",
      "QUANTITY\n",
      "2-4.5 mm\n",
      "[]\n",
      "----\n",
      "PART: cypsela\n",
      "QUANTITY\n",
      "1-2 mm\n",
      "[]\n"
     ]
    }
   ],
   "source": [
    "for ent in doc.ents:\n",
    "    part = ent.sent._.anatomical_part if ent.sent._.anatomical_part else None\n",
    "    \n",
    "    # print(ent.label_)\n",
    "    \n",
    "    if ent.label_ != 'QUANTITY':\n",
    "        continue\n",
    "        \n",
    "    print('----')\n",
    "    print('PART:' , part)\n",
    "    print(ent.label_)\n",
    "    print(ent)\n",
    "    print(ent.sent._.dimensions)\n",
    "    \n",
    "\n",
    "    \n",
    "#     # Initiate field\n",
    "#     # Factory      \n",
    "    \n",
    "#     # print(ent)\n",
    "#     print(rows)\n",
    "#     print('-----')\n",
    "    \n",
    "    # if part:\n",
    "    #     break\n",
    "    \n",
    "#     # If we haven't found a term, it's for another plant group     \n",
    "#     if rows.empty: continue\n",
    "    \n",
    "#     # Multiple terms, so validate part    \n",
    "#     if len(rows) > 1:\n",
    "#         continue\n",
    "#         print('-----')\n",
    "#         print(part)\n",
    "        \n",
    "#         print(rows)\n",
    "        \n",
    "#         mask = rows.part.isna() if not part else rows.part == part\n",
    "#         rows = rows[mask]\n",
    "        \n",
    "        \n",
    "        \n",
    "#         print(rows.part.unique())\n",
    "#         print(rows)\n",
    "        \n",
    "    # print(rows)\n",
    "        \n",
    "    \n",
    "    # print(df[df.term == ent.lemma_])\n",
    "        \n",
    "    \n",
    "    # print()\n",
    "    \n",
    "    # print(ent.label_)\n",
    "    # print(part)\n",
    "    # print(ent.lemma_)\n",
    "    # break\n",
    "\n"
   ]
  },
  {
   "cell_type": "code",
   "execution_count": 75,
   "id": "1ab6f5bb-56de-4ff1-baa0-a9456926c21a",
   "metadata": {},
   "outputs": [
    {
     "data": {
      "text/plain": [
       "{'a': Trait(l=[1, 5]), 'b': Trait(l=[2])}"
      ]
     },
     "execution_count": 75,
     "metadata": {},
     "output_type": "execute_result"
    }
   ],
   "source": [
    "from dataclasses import dataclass, field\n",
    "\n",
    "# TODO: OrderedDict?\n",
    "\n",
    "@dataclass\n",
    "class Trait:\n",
    "    l: list[int] = field(default_factory=list)\n",
    "\n",
    "d = {}\n",
    "\n",
    "for x, y in [('a', 1), ('b', 2), ('a', 5)]:\n",
    "    if not x in d: d[x] = Trait()    \n",
    "    d[x].l.append(y)\n",
    "        \n",
    "        \n",
    "    # print(x)\n",
    "\n",
    "d\n",
    "\n"
   ]
  },
  {
   "cell_type": "code",
   "execution_count": 54,
   "id": "d9aab2dd-b89f-4272-ab48-e301cd9f2c36",
   "metadata": {},
   "outputs": [],
   "source": [
    "t = 'v-form'"
   ]
  },
  {
   "cell_type": "code",
   "execution_count": 55,
   "id": "af00edbe-6db9-4b54-ab28-1df31ce2f48e",
   "metadata": {},
   "outputs": [
    {
     "data": {
      "text/plain": [
       "['v', 'form']"
      ]
     },
     "execution_count": 55,
     "metadata": {},
     "output_type": "execute_result"
    }
   ],
   "source": [
    "t.split('-')"
   ]
  },
  {
   "cell_type": "code",
   "execution_count": 57,
   "id": "0901af98-f986-461d-a61d-e7f1150e8b41",
   "metadata": {},
   "outputs": [
    {
     "data": {
      "text/plain": [
       "['v', '-', 'form']"
      ]
     },
     "execution_count": 57,
     "metadata": {},
     "output_type": "execute_result"
    }
   ],
   "source": [
    "import re\n",
    "re.split('(\\W)', t)"
   ]
  },
  {
   "cell_type": "code",
   "execution_count": 129,
   "id": "dc2b9753-3263-4734-bbeb-2745f643e55d",
   "metadata": {},
   "outputs": [
    {
     "name": "stdout",
     "output_type": "stream",
     "text": [
      "discrete\n"
     ]
    },
    {
     "ename": "TypeError",
     "evalue": "DiscreteField.__init__() missing 2 required positional arguments: 'name' and 'value'",
     "output_type": "error",
     "traceback": [
      "\u001b[0;31m---------------------------------------------------------------------------\u001b[0m",
      "\u001b[0;31mKeyError\u001b[0m                                  Traceback (most recent call last)",
      "Cell \u001b[0;32mIn[129], line 16\u001b[0m, in \u001b[0;36mFields.set_value\u001b[0;34m(self, field_name, field_type, value)\u001b[0m\n\u001b[1;32m     15\u001b[0m \u001b[38;5;28;01mtry\u001b[39;00m:\n\u001b[0;32m---> 16\u001b[0m     \u001b[38;5;28;43mself\u001b[39;49m\u001b[38;5;241;43m.\u001b[39;49m\u001b[43m_fields\u001b[49m\u001b[43m[\u001b[49m\u001b[43mfield_name\u001b[49m\u001b[43m]\u001b[49m\n\u001b[1;32m     17\u001b[0m \u001b[38;5;28;01mexcept\u001b[39;00m \u001b[38;5;167;01mKeyError\u001b[39;00m:\n",
      "\u001b[0;31mKeyError\u001b[0m: 'name'",
      "\nDuring handling of the above exception, another exception occurred:\n",
      "\u001b[0;31mTypeError\u001b[0m                                 Traceback (most recent call last)",
      "Cell \u001b[0;32mIn[129], line 30\u001b[0m\n\u001b[1;32m     28\u001b[0m fields \u001b[38;5;241m=\u001b[39m Fields()   \n\u001b[1;32m     29\u001b[0m value \u001b[38;5;241m=\u001b[39m \u001b[38;5;124m'\u001b[39m\u001b[38;5;124mhey\u001b[39m\u001b[38;5;124m'\u001b[39m\n\u001b[0;32m---> 30\u001b[0m \u001b[43mfields\u001b[49m\u001b[38;5;241;43m.\u001b[39;49m\u001b[43mset_value\u001b[49m\u001b[43m(\u001b[49m\u001b[38;5;124;43m'\u001b[39;49m\u001b[38;5;124;43mname\u001b[39;49m\u001b[38;5;124;43m'\u001b[39;49m\u001b[43m,\u001b[49m\u001b[43m \u001b[49m\u001b[38;5;124;43m'\u001b[39;49m\u001b[38;5;124;43mdiscrete\u001b[39;49m\u001b[38;5;124;43m'\u001b[39;49m\u001b[43m,\u001b[49m\u001b[43m \u001b[49m\u001b[43mvalue\u001b[49m\u001b[43m)\u001b[49m\n\u001b[1;32m     33\u001b[0m \u001b[38;5;66;03m# fields['x']\u001b[39;00m\n",
      "Cell \u001b[0;32mIn[129], line 18\u001b[0m, in \u001b[0;36mFields.set_value\u001b[0;34m(self, field_name, field_type, value)\u001b[0m\n\u001b[1;32m     16\u001b[0m     \u001b[38;5;28mself\u001b[39m\u001b[38;5;241m.\u001b[39m_fields[field_name]\n\u001b[1;32m     17\u001b[0m \u001b[38;5;28;01mexcept\u001b[39;00m \u001b[38;5;167;01mKeyError\u001b[39;00m:\n\u001b[0;32m---> 18\u001b[0m     \u001b[38;5;28mself\u001b[39m\u001b[38;5;241m.\u001b[39m_fields[field_name] \u001b[38;5;241m=\u001b[39m \u001b[38;5;28;43mself\u001b[39;49m\u001b[38;5;241;43m.\u001b[39;49m\u001b[43mfactory\u001b[49m\u001b[43m(\u001b[49m\u001b[43mfield_type\u001b[49m\u001b[43m)\u001b[49m\n\u001b[1;32m     19\u001b[0m \u001b[38;5;28;01mfinally\u001b[39;00m:\n\u001b[1;32m     20\u001b[0m     \u001b[38;5;66;03m# self._fields[field_name].set_value(value)\u001b[39;00m\n\u001b[1;32m     21\u001b[0m     \u001b[38;5;28;01mpass\u001b[39;00m\n",
      "Cell \u001b[0;32mIn[129], line 26\u001b[0m, in \u001b[0;36mFields.factory\u001b[0;34m(self, field_type, **kwargs)\u001b[0m\n\u001b[1;32m     23\u001b[0m \u001b[38;5;28;01mdef\u001b[39;00m \u001b[38;5;21mfactory\u001b[39m(\u001b[38;5;28mself\u001b[39m, field_type, \u001b[38;5;241m*\u001b[39m\u001b[38;5;241m*\u001b[39mkwargs):\n\u001b[1;32m     24\u001b[0m     \u001b[38;5;66;03m# field_type = field_dict.pop('type', 'DISCRETE').lower()\u001b[39;00m\n\u001b[1;32m     25\u001b[0m     \u001b[38;5;28mprint\u001b[39m(field_type)\n\u001b[0;32m---> 26\u001b[0m     \u001b[38;5;28;01mreturn\u001b[39;00m \u001b[38;5;28;43mself\u001b[39;49m\u001b[38;5;241;43m.\u001b[39;49m\u001b[43m_classes\u001b[49m\u001b[43m[\u001b[49m\u001b[43mfield_type\u001b[49m\u001b[43m]\u001b[49m\u001b[43m(\u001b[49m\u001b[43m)\u001b[49m\n",
      "\u001b[0;31mTypeError\u001b[0m: DiscreteField.__init__() missing 2 required positional arguments: 'name' and 'value'"
     ]
    }
   ],
   "source": [
    "\n",
    "\n",
    "\n",
    "# fields['x']"
   ]
  },
  {
   "cell_type": "code",
   "execution_count": 170,
   "id": "d6b8f0f4-1ed4-4eb1-a3bd-45405f15c135",
   "metadata": {},
   "outputs": [
    {
     "data": {
      "text/plain": [
       "[]"
      ]
     },
     "execution_count": 170,
     "metadata": {},
     "output_type": "execute_result"
    }
   ],
   "source": [
    "x = [1]\n",
    "x[1:]"
   ]
  },
  {
   "cell_type": "code",
   "execution_count": 196,
   "id": "1d8078dc-c7c5-49a1-baf6-2b88692cc429",
   "metadata": {},
   "outputs": [
    {
     "data": {
      "text/plain": [
       "'x'"
      ]
     },
     "execution_count": 196,
     "metadata": {},
     "output_type": "execute_result"
    }
   ],
   "source": [
    "s = 'petal_measurement.x.min'\n",
    "\n",
    "re.search(r'\\b(x|y)\\b', s).group(1)\n"
   ]
  },
  {
   "cell_type": "code",
   "execution_count": 92,
   "id": "9e3e4c8f-9c22-475b-a558-5a4531617457",
   "metadata": {},
   "outputs": [
    {
     "data": {
      "text/plain": [
       "'3cm³'"
      ]
     },
     "execution_count": 92,
     "metadata": {},
     "output_type": "execute_result"
    }
   ],
   "source": [
    "s = '3cm3'\n",
    "\n",
    "re.sub('3$', '³', s)"
   ]
  },
  {
   "cell_type": "code",
   "execution_count": 44,
   "id": "020a439f-7ceb-4bd4-821e-b6f8963dc327",
   "metadata": {},
   "outputs": [],
   "source": [
    "x = {'field_name': {'y': {'min': 40.0, 'max': 100.0}}}"
   ]
  },
  {
   "cell_type": "code",
   "execution_count": 45,
   "id": "518fc593-e1ed-4f13-878b-21ff025753e9",
   "metadata": {},
   "outputs": [
    {
     "data": {
      "text/plain": [
       "{'field_name.y.min': 40.0, 'field_name.y.max': 100.0}"
      ]
     },
     "execution_count": 45,
     "metadata": {},
     "output_type": "execute_result"
    }
   ],
   "source": []
  },
  {
   "cell_type": "code",
   "execution_count": 59,
   "id": "3e5b9005-aa42-49dd-a8ac-ef6e0e322887",
   "metadata": {},
   "outputs": [
    {
     "name": "stdout",
     "output_type": "stream",
     "text": [
      "1.3 m/s²\n"
     ]
    }
   ],
   "source": [
    "import pint\n",
    "\n",
    "ureg = pint.UnitRegistry()\n",
    "ureg.default_format = '~P' # Add this if you want to use abbreviated unit names.\n",
    "accel = 1.3 * ureg['meter/second**2']\n",
    "print(f'{accel}')"
   ]
  },
  {
   "cell_type": "code",
   "execution_count": 19,
   "id": "5d166aca-67a4-497b-8fde-7fe61cc56574",
   "metadata": {},
   "outputs": [],
   "source": [
    "from adept.tasks.descriptions.ecoflora import EcofloraDescriptionTask"
   ]
  },
  {
   "cell_type": "code",
   "execution_count": 31,
   "id": "4dd818b1-190e-48b8-b723-d9517f3e31f0",
   "metadata": {},
   "outputs": [],
   "source": [
    "x = [\n",
    "    EcofloraDescriptionTask('hey'),\n",
    "    EcofloraDescriptionTask('123'),\n",
    "]"
   ]
  },
  {
   "cell_type": "code",
   "execution_count": 29,
   "id": "7792624d-2192-45d2-92b8-ed2d8e0f64f9",
   "metadata": {},
   "outputs": [
    {
     "ename": "TypeError",
     "evalue": "unhashable type: 'list'",
     "output_type": "error",
     "traceback": [
      "\u001b[0;31m---------------------------------------------------------------------------\u001b[0m",
      "\u001b[0;31mTypeError\u001b[0m                                 Traceback (most recent call last)",
      "Cell \u001b[0;32mIn[29], line 1\u001b[0m\n\u001b[0;32m----> 1\u001b[0m \u001b[38;5;28;43mhash\u001b[39;49m\u001b[43m(\u001b[49m\u001b[43mx\u001b[49m\u001b[43m)\u001b[49m\n",
      "\u001b[0;31mTypeError\u001b[0m: unhashable type: 'list'"
     ]
    }
   ],
   "source": [
    "hash(x)"
   ]
  },
  {
   "cell_type": "code",
   "execution_count": 35,
   "id": "28df5156-418d-49be-9459-1ebc97694f7c",
   "metadata": {},
   "outputs": [],
   "source": [
    "import pygbif\n",
    "#pygbif.caching(True)\n",
    "from pygbif import species"
   ]
  },
  {
   "cell_type": "code",
   "execution_count": 37,
   "id": "0b37df1d-1a73-4c46-9f9e-39a8094017e4",
   "metadata": {},
   "outputs": [
    {
     "name": "stdout",
     "output_type": "stream",
     "text": [
      "send: b'GET /v1/species/match?name=Hippuris+vulgaris&kingdom=plants&strict=false&verbose=false&limit=100 HTTP/1.1\\r\\nHost: api.gbif.org\\r\\nuser-agent: python-requests/2.28.1,pygbif/0.6.0\\r\\nAccept-Encoding: gzip, deflate\\r\\nAccept: */*\\r\\nConnection: keep-alive\\r\\n\\r\\n'\n",
      "reply: 'HTTP/1.1 200 OK\\r\\n'\n",
      "header: Vary: Origin, Access-Control-Request-Method, Access-Control-Request-Headers\n",
      "header: X-Content-Type-Options: nosniff\n",
      "header: X-XSS-Protection: 1; mode=block\n",
      "header: Pragma: no-cache\n",
      "header: Expires: 0\n",
      "header: X-Frame-Options: DENY\n",
      "header: Content-Type: application/json\n",
      "header: Date: Sun, 15 Jan 2023 20:59:36 GMT\n",
      "header: Cache-Control: public, max-age=3601\n",
      "header: X-Varnish: 815564009\n",
      "header: Age: 0\n",
      "header: Via: 1.1 varnish (Varnish/6.0)\n",
      "header: Accept-Ranges: bytes\n",
      "header: Content-Length: 470\n",
      "header: Connection: keep-alive\n"
     ]
    },
    {
     "data": {
      "text/plain": [
       "{'usageKey': 5372503,\n",
       " 'scientificName': 'Hippuris vulgaris L.',\n",
       " 'canonicalName': 'Hippuris vulgaris',\n",
       " 'rank': 'SPECIES',\n",
       " 'status': 'ACCEPTED',\n",
       " 'confidence': 100,\n",
       " 'matchType': 'EXACT',\n",
       " 'kingdom': 'Plantae',\n",
       " 'phylum': 'Tracheophyta',\n",
       " 'order': 'Lamiales',\n",
       " 'family': 'Plantaginaceae',\n",
       " 'genus': 'Hippuris',\n",
       " 'species': 'Hippuris vulgaris',\n",
       " 'kingdomKey': 6,\n",
       " 'phylumKey': 7707728,\n",
       " 'classKey': 220,\n",
       " 'orderKey': 408,\n",
       " 'familyKey': 2420,\n",
       " 'genusKey': 3039572,\n",
       " 'speciesKey': 5372503,\n",
       " 'synonym': False,\n",
       " 'class': 'Magnoliopsida'}"
      ]
     },
     "execution_count": 37,
     "metadata": {},
     "output_type": "execute_result"
    }
   ],
   "source": [
    "species.name_backbone(name='Hippuris vulgaris', kingdom='plants')"
   ]
  },
  {
   "cell_type": "code",
   "execution_count": 41,
   "id": "96b4dc3d-4941-46e1-ad57-82daa4dd27ef",
   "metadata": {},
   "outputs": [],
   "source": [
    "p = pd.read_csv(RAW_DATA_DIR / 'species-example.csv')"
   ]
  },
  {
   "cell_type": "code",
   "execution_count": 73,
   "id": "f7a4a184-8a15-47e0-8a7a-38f7d1613b0f",
   "metadata": {},
   "outputs": [
    {
     "data": {
      "text/plain": [
       "[('Pyrus vsevolodovii', 'hey'), ('Pyrus chosrovica', 'hey')]"
      ]
     },
     "execution_count": 73,
     "metadata": {},
     "output_type": "execute_result"
    }
   ],
   "source": [
    "\n",
    "p[['Species name', 'Group']].values.tolist()\n",
    "\n",
    "\n",
    "taxa = p['Species name'].unique()\n",
    "\n",
    "list(zip(taxa, ['hey'] * len(taxa)))\n",
    "\n",
    "# for name, group in p[['Species name', 'Group']].drop_duplicates().values.tolist():\n",
    "#     print(name)\n",
    "\n",
    "# p.columns.values.tolist()\n",
    "\n",
    "# taxa"
   ]
  },
  {
   "cell_type": "code",
   "execution_count": null,
   "id": "d1f67a2e-b8c8-4f1c-82cb-3b4ba4954bc1",
   "metadata": {},
   "outputs": [],
   "source": []
  }
 ],
 "metadata": {
  "kernelspec": {
   "display_name": "ADEPT",
   "language": "python",
   "name": "adept"
  },
  "language_info": {
   "codemirror_mode": {
    "name": "ipython",
    "version": 3
   },
   "file_extension": ".py",
   "mimetype": "text/x-python",
   "name": "python",
   "nbconvert_exporter": "python",
   "pygments_lexer": "ipython3",
   "version": "3.10.2"
  }
 },
 "nbformat": 4,
 "nbformat_minor": 5
}
