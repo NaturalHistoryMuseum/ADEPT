{
 "cells": [
  {
   "cell_type": "code",
   "execution_count": 1,
   "id": "6f0b9ad0-f7dd-48a5-a226-5e8405d72308",
   "metadata": {},
   "outputs": [
    {
     "name": "stderr",
     "output_type": "stream",
     "text": [
      "/Users/ben/Projects/NaturalHistoryMuseum/ADEPT/ADEPT/.venv/lib/python3.10/site-packages/tqdm/auto.py:22: TqdmWarning: IProgress not found. Please update jupyter and ipywidgets. See https://ipywidgets.readthedocs.io/en/stable/user_install.html\n",
      "  from .autonotebook import tqdm as notebook_tqdm\n"
     ]
    }
   ],
   "source": [
    "import pandas as pd\n",
    "import re\n",
    "import spacy\n",
    "\n",
    "from adept.config import DATA_DIR, TRAINING_DIR, PROCESSED_DATA_DIR\n",
    "from adept.preprocess import Preprocess\n",
    "from adept.postprocess import Postproccess\n",
    "import spacy\n",
    "from spacy.language import Language\n",
    "from spacy.tokens import Doc\n",
    "from adept.utils.helpers import token_get_ent\n",
    "from adept.components.sentencizer import SentencizerComponent\n",
    "from adept.components.numeric.range import NumericRangeComponent\n",
    "\n",
    "\n",
    "@Language.factory(\"semicolon_sentencizer\")\n",
    "def create_sentencizer_component(nlp: Language, name: str):\n",
    "    return SentencizerComponent(nlp)\n",
    "\n",
    "\n",
    "@Language.factory(\"numeric_range\")\n",
    "def create_numeric_range_component(nlp: Language, name: str):\n",
    "    return NumericRangeComponent(nlp)"
   ]
  },
  {
   "cell_type": "code",
   "execution_count": 2,
   "id": "283f932d-089d-4d16-a702-b4682e33b9a1",
   "metadata": {},
   "outputs": [],
   "source": [
    "nlp = spacy.load('en_core_web_trf')"
   ]
  },
  {
   "cell_type": "code",
   "execution_count": 3,
   "id": "e2e45ccb-1b00-4df0-ad3c-4223831e34e4",
   "metadata": {},
   "outputs": [],
   "source": [
    "class ComponentsRegistry(object):\n",
    "    def __init__(self, nlp):\n",
    "        self.nlp = nlp\n",
    "        \n",
    "    def add_component(self, name, **kwargs):\n",
    "        \"\"\"\n",
    "        Add a component\n",
    "        name - the language factory name\n",
    "        ** kwargs - matching https://spacy.io/api/language#add_pipe e.g. before='ner'\n",
    "        \n",
    "        \"\"\"\n",
    "        if not self.nlp.has_pipe(name):\n",
    "            self.nlp.add_pipe(name, **kwargs)\n",
    "        else:\n",
    "            self.nlp.replace_pipe(name, name)         \n",
    "        \n",
    "   \n",
    "registry = ComponentsRegistry(nlp)\n",
    "\n",
    "registry.add_component('numeric_range', before='ner')"
   ]
  },
  {
   "cell_type": "code",
   "execution_count": 4,
   "id": "25319f1c-5933-4f9d-a849-c2123f1f6538",
   "metadata": {},
   "outputs": [
    {
     "data": {
      "text/plain": [
       "[('transformer',\n",
       "  <spacy_transformers.pipeline_component.Transformer at 0x13b505660>),\n",
       " ('tagger', <spacy.pipeline.tagger.Tagger at 0x13b505300>),\n",
       " ('parser', <spacy.pipeline.dep_parser.DependencyParser at 0x13b4ed380>),\n",
       " ('attribute_ruler',\n",
       "  <spacy.pipeline.attributeruler.AttributeRuler at 0x13a4251c0>),\n",
       " ('lemmatizer', <spacy.lang.en.lemmatizer.EnglishLemmatizer at 0x13b788800>),\n",
       " ('numeric_range',\n",
       "  <adept.components.numeric.range.NumericRangeComponent at 0x13c81df90>),\n",
       " ('ner', <spacy.pipeline.ner.EntityRecognizer at 0x13b4ed4d0>)]"
      ]
     },
     "execution_count": 4,
     "metadata": {},
     "output_type": "execute_result"
    }
   ],
   "source": [
    "registry.nlp.pipeline"
   ]
  },
  {
   "cell_type": "code",
   "execution_count": null,
   "id": "a8c8ddb9-3892-4cf2-a361-5b62bc5a3f78",
   "metadata": {},
   "outputs": [],
   "source": []
  }
 ],
 "metadata": {
  "kernelspec": {
   "display_name": "ADEPT",
   "language": "python",
   "name": "adept"
  },
  "language_info": {
   "codemirror_mode": {
    "name": "ipython",
    "version": 3
   },
   "file_extension": ".py",
   "mimetype": "text/x-python",
   "name": "python",
   "nbconvert_exporter": "python",
   "pygments_lexer": "ipython3",
   "version": "3.10.2"
  }
 },
 "nbformat": 4,
 "nbformat_minor": 5
}
